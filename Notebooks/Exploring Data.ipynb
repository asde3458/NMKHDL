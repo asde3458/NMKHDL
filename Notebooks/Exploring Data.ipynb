{
 "cells": [
  {
   "cell_type": "markdown",
   "id": "585e5521-3461-43f4-97a0-92f5209b5195",
   "metadata": {},
   "source": [
    "<div style=\"text-align: center; background-color: #5A96E3; font-family: 'Trebuchet MS', Arial, sans-serif; color: white; padding: 20px; font-size: 40px; font-weight: bold; border-radius: 0 0 0 0; box-shadow: 0px 6px 8px rgba(0, 0, 0, 0.2);\">\n",
    "  2. Exploring Data</div>"
   ]
  },
  {
   "cell_type": "markdown",
   "id": "bc8e7ab9",
   "metadata": {},
   "source": [
    "#  2. Data preprocessing and exploration"
   ]
  },
  {
   "cell_type": "markdown",
   "id": "b0817b14",
   "metadata": {},
   "source": [
    "### 2.1 Import Required Libraries"
   ]
  },
  {
   "cell_type": "code",
   "execution_count": 1,
   "id": "b1490e82-b114-4122-adfb-25d5ba17f61f",
   "metadata": {},
   "outputs": [],
   "source": [
    "import requests\n",
    "import json\n",
    "import pandas as pd\n",
    "import numpy as np\n",
    "import time\n",
    "import datetime\n",
    "import calendar\n",
    "import seaborn as sns\n",
    "import matplotlib.pyplot as plt"
   ]
  },
  {
   "cell_type": "markdown",
   "id": "13d983e1",
   "metadata": {},
   "source": [
    "### 2.2 Read csv file into a Pandas Dataframe "
   ]
  },
  {
   "cell_type": "code",
   "execution_count": 2,
   "id": "39f0083f-11f6-45f5-b582-c7d92aabbcb2",
   "metadata": {},
   "outputs": [],
   "source": [
    "air_quality_df = pd.read_csv('../Data/air_quality.csv')"
   ]
  },
  {
   "cell_type": "code",
   "execution_count": 3,
   "id": "224685ef-6679-4d28-9241-a7e2e8d36f46",
   "metadata": {},
   "outputs": [
    {
     "data": {
      "text/html": [
       "<div>\n",
       "<style scoped>\n",
       "    .dataframe tbody tr th:only-of-type {\n",
       "        vertical-align: middle;\n",
       "    }\n",
       "\n",
       "    .dataframe tbody tr th {\n",
       "        vertical-align: top;\n",
       "    }\n",
       "\n",
       "    .dataframe thead th {\n",
       "        text-align: right;\n",
       "    }\n",
       "</style>\n",
       "<table border=\"1\" class=\"dataframe\">\n",
       "  <thead>\n",
       "    <tr style=\"text-align: right;\">\n",
       "      <th></th>\n",
       "      <th>dt</th>\n",
       "      <th>aqi</th>\n",
       "      <th>co</th>\n",
       "      <th>no</th>\n",
       "      <th>no2</th>\n",
       "      <th>o3</th>\n",
       "      <th>so2</th>\n",
       "      <th>pm2_5</th>\n",
       "      <th>pm10</th>\n",
       "      <th>nh3</th>\n",
       "    </tr>\n",
       "  </thead>\n",
       "  <tbody>\n",
       "    <tr>\n",
       "      <th>0</th>\n",
       "      <td>1609459200</td>\n",
       "      <td>3</td>\n",
       "      <td>700.95</td>\n",
       "      <td>0.44</td>\n",
       "      <td>35.99</td>\n",
       "      <td>17.35</td>\n",
       "      <td>32.90</td>\n",
       "      <td>20.33</td>\n",
       "      <td>26.64</td>\n",
       "      <td>8.99</td>\n",
       "    </tr>\n",
       "    <tr>\n",
       "      <th>1</th>\n",
       "      <td>1609462800</td>\n",
       "      <td>3</td>\n",
       "      <td>847.82</td>\n",
       "      <td>2.46</td>\n",
       "      <td>38.04</td>\n",
       "      <td>18.06</td>\n",
       "      <td>36.24</td>\n",
       "      <td>23.32</td>\n",
       "      <td>30.54</td>\n",
       "      <td>9.37</td>\n",
       "    </tr>\n",
       "    <tr>\n",
       "      <th>2</th>\n",
       "      <td>1609466400</td>\n",
       "      <td>3</td>\n",
       "      <td>894.55</td>\n",
       "      <td>5.25</td>\n",
       "      <td>38.39</td>\n",
       "      <td>23.25</td>\n",
       "      <td>41.01</td>\n",
       "      <td>24.16</td>\n",
       "      <td>31.93</td>\n",
       "      <td>9.25</td>\n",
       "    </tr>\n",
       "    <tr>\n",
       "      <th>3</th>\n",
       "      <td>1609470000</td>\n",
       "      <td>3</td>\n",
       "      <td>827.79</td>\n",
       "      <td>6.20</td>\n",
       "      <td>36.33</td>\n",
       "      <td>33.98</td>\n",
       "      <td>43.39</td>\n",
       "      <td>23.20</td>\n",
       "      <td>30.91</td>\n",
       "      <td>8.61</td>\n",
       "    </tr>\n",
       "    <tr>\n",
       "      <th>4</th>\n",
       "      <td>1609473600</td>\n",
       "      <td>2</td>\n",
       "      <td>660.90</td>\n",
       "      <td>3.69</td>\n",
       "      <td>29.13</td>\n",
       "      <td>54.36</td>\n",
       "      <td>35.76</td>\n",
       "      <td>19.50</td>\n",
       "      <td>25.60</td>\n",
       "      <td>6.21</td>\n",
       "    </tr>\n",
       "  </tbody>\n",
       "</table>\n",
       "</div>"
      ],
      "text/plain": [
       "           dt  aqi      co    no    no2     o3    so2  pm2_5   pm10   nh3\n",
       "0  1609459200    3  700.95  0.44  35.99  17.35  32.90  20.33  26.64  8.99\n",
       "1  1609462800    3  847.82  2.46  38.04  18.06  36.24  23.32  30.54  9.37\n",
       "2  1609466400    3  894.55  5.25  38.39  23.25  41.01  24.16  31.93  9.25\n",
       "3  1609470000    3  827.79  6.20  36.33  33.98  43.39  23.20  30.91  8.61\n",
       "4  1609473600    2  660.90  3.69  29.13  54.36  35.76  19.50  25.60  6.21"
      ]
     },
     "execution_count": 3,
     "metadata": {},
     "output_type": "execute_result"
    }
   ],
   "source": [
    "# Dislay 5 first rows\n",
    "air_quality_df.head()"
   ]
  },
  {
   "cell_type": "markdown",
   "id": "c9caf521",
   "metadata": {},
   "source": [
    "### 2.3  How many rows and columns are in the dataset?"
   ]
  },
  {
   "cell_type": "code",
   "execution_count": 4,
   "id": "385700b3-057f-4805-bc41-fb6e6595eea2",
   "metadata": {},
   "outputs": [
    {
     "name": "stdout",
     "output_type": "stream",
     "text": [
      "Number of rows: 33817\n",
      "Number of columns: 10\n"
     ]
    }
   ],
   "source": [
    "num_rows, num_cols = air_quality_df.shape\n",
    "print(f'Number of rows: {num_rows}\\nNumber of columns: {num_cols}')"
   ]
  },
  {
   "cell_type": "markdown",
   "id": "73cdf4de",
   "metadata": {},
   "source": [
    "### 2.4 Are there duplicate rows in the dataset?"
   ]
  },
  {
   "cell_type": "code",
   "execution_count": 5,
   "id": "6528e8e1-51f9-4f7c-826b-7bda2e4b7702",
   "metadata": {},
   "outputs": [
    {
     "name": "stdout",
     "output_type": "stream",
     "text": [
      "this dataset does not have duplicate rows\n"
     ]
    }
   ],
   "source": [
    "\n",
    "have_duplicate_rows = bool(air_quality_df.duplicated().any())\n",
    "if have_duplicate_rows:\n",
    "    print('this dataset have duplicate rows')\n",
    "else:\n",
    "    print('this dataset does not have duplicate rows')"
   ]
  },
  {
   "cell_type": "markdown",
   "id": "6864dd84",
   "metadata": {},
   "source": [
    "### 2.5 What is the meaning of the data"
   ]
  },
  {
   "cell_type": "markdown",
   "id": "315e14d3",
   "metadata": {},
   "source": [
    "#### 2.5.1 Meaning of each row"
   ]
  },
  {
   "cell_type": "markdown",
   "id": "4c50980b",
   "metadata": {},
   "source": [
    "-  Each row in your dataset (with information about air quality) represents a data point collected at a specific time and location, providing details about air pollutants and the Air Quality Index (AQI). "
   ]
  },
  {
   "cell_type": "markdown",
   "id": "7bdb2830",
   "metadata": {},
   "source": [
    "#### 2.5.2 Meaning of each column"
   ]
  },
  {
   "cell_type": "markdown",
   "id": "56428227",
   "metadata": {},
   "source": [
    "\n",
    " - AQI:\n",
    "    - The Air Quality Index (AQI) is a standardized numerical scale used to communicate the quality of air in a given area. It provides an estimate of the impact of air pollution on human health, considering various pollutants such as particulate matter (PM2.5 and PM10), ground-level ozone (O₃), sulfur dioxide (SO₂), nitrogen dioxide (NO₂), and carbon monoxide (CO). The AQI scale ranges from 0 to 500, with higher values indicating poorer air quality and greater health risks.\n",
    " - CO (Carbon Monoxide - Monoxit Carbon):\n",
    "\n",
    "   - Carbon monoxide (CO) is a colorless, odorless gas that is produced by incomplete combustion of carbon-containing materials. In the context of air quality and environmental monitoring, CO is used as a measure to monitor air pollution levels. Elevated levels of CO can indicate poor air quality and pose health risks to humans, particularly affecting the heart and lungs.\\.\n",
    "- NO (Nitric Oxide - Nitơ Oxít) và NO2 (Nitrogen Dioxide - Nitơ Điôxít):\n",
    "\n",
    "   - NO stands for Nitric Oxide. It is a colorless, odorless gas composed of nitrogen and oxygen atoms. In environmental science and atmospheric chemistry, NO plays a significant role as a primary pollutant in the formation of smog and ground-level ozone. It is also involved in various physiological processes in living organisms. Elevated concentrations of NO can be harmful to human health and the environment.\n",
    "        \n",
    "- O3 (Ozone - Ozon):\n",
    "\n",
    "    - O3 stands for Ozone. It is a triatomic molecule consisting of three oxygen atoms. In the Earth's atmosphere, O3 plays a dual role: it occurs naturally in the stratosphere as the ozone layer, which absorbs and protects against the sun's harmful ultraviolet radiation. At ground level, O3 is considered a pollutant and a major component of smog. High concentrations of O3 can cause respiratory issues, particularly for individuals with asthma or other lung conditions.\n",
    "        \n",
    " - SO2 (Sulfur Dioxide - Lưu huỳnh Điôxít):\n",
    "\n",
    "   - SO2 stands for Sulfur Dioxide. It is a colorless gas with a pungent, irritating smell. SO2 is produced primarily from burning fossil fuels that contain sulfur, such as coal and oil, as well as from industrial processes like metal smelting. High levels of SO2 in the air can lead to respiratory problems, exacerbate conditions like asthma, and contribute to the formation of acid rain. It also has a significant impact on the environment and can cause damage to crops and buildings.\n",
    " - PM 2.5:\n",
    "    - PM2.5 particles, with diameters smaller than 2.5 micrometers, are capable of penetrating deep into the lungs and entering the bloodstream. These ultrafine particles are associated with severe health effects, particularly on the cardiovascular and pulmonary systems. Chronic exposure increases the risk of conditions such as chronic obstructive pulmonary disease (COPD), asthma, and cardiovascular diseases, significantly contributing to premature mortality.\n",
    " - PM10: \n",
    "    - PM10 particles, though larger than PM2.5, are still small enough to be inhaled into the respiratory tract. These particles accumulate in the airways, causing irritation, coughing, and exacerbating conditions such as asthma. Long-term exposure to PM10 can lead to substantial respiratory damage and heightened vulnerability to respiratory infections.\n",
    "          \n",
    "  - NH3:\n",
    "      - Ammonia (NH₃) is a pungent gas that can irritate the respiratory tract, causing eye irritation, throat discomfort, and breathing difficulties at elevated concentrations. Prolonged or repeated exposure to ammonia has the potential to cause chronic respiratory issues and damage to lung tissues"
   ]
  },
  {
   "cell_type": "markdown",
   "id": "17e4f24c",
   "metadata": {},
   "source": [
    "### 2.6 Data Type Conversion & Handling Missing Data"
   ]
  },
  {
   "cell_type": "markdown",
   "id": "7828a4a6",
   "metadata": {},
   "source": [
    "#### 2.6.1 What is the data type of each column?"
   ]
  },
  {
   "cell_type": "code",
   "execution_count": 6,
   "id": "49bbcfd0-a2cc-4dc0-a214-2e64daf53e72",
   "metadata": {},
   "outputs": [
    {
     "name": "stdout",
     "output_type": "stream",
     "text": [
      "dt         int64\n",
      "aqi        int64\n",
      "co       float64\n",
      "no       float64\n",
      "no2      float64\n",
      "o3       float64\n",
      "so2      float64\n",
      "pm2_5    float64\n",
      "pm10     float64\n",
      "nh3      float64\n",
      "dtype: object\n"
     ]
    }
   ],
   "source": [
    "col_dtype =air_quality_df.dtypes\n",
    "print(col_dtype)"
   ]
  },
  {
   "cell_type": "markdown",
   "id": "b1b9c816",
   "metadata": {},
   "source": [
    "#### 2.6.2 Is there any missing data?"
   ]
  },
  {
   "cell_type": "markdown",
   "id": "01c84cda",
   "metadata": {},
   "source": [
    "- Display number of NA values in each column."
   ]
  },
  {
   "cell_type": "code",
   "execution_count": 7,
   "id": "ff34f4d8-f3ec-473b-b975-9ffe1c0f55bc",
   "metadata": {},
   "outputs": [
    {
     "data": {
      "text/plain": [
       "dt       0\n",
       "aqi      0\n",
       "co       0\n",
       "no       0\n",
       "no2      0\n",
       "o3       0\n",
       "so2      0\n",
       "pm2_5    0\n",
       "pm10     0\n",
       "nh3      0\n",
       "dtype: int64"
      ]
     },
     "execution_count": 7,
     "metadata": {},
     "output_type": "execute_result"
    }
   ],
   "source": [
    "# checking null values\n",
    "air_quality_df.isnull().sum()"
   ]
  },
  {
   "cell_type": "markdown",
   "id": "a9143f44",
   "metadata": {},
   "source": [
    "Good. There aren't any missing data"
   ]
  },
  {
   "cell_type": "markdown",
   "id": "8d196f24",
   "metadata": {},
   "source": [
    "#### 2.6.3 Are there any invalid data?"
   ]
  },
  {
   "cell_type": "markdown",
   "id": "b396f7bf",
   "metadata": {},
   "source": [
    "- Change the type of collumn 'dt' into datetime "
   ]
  },
  {
   "cell_type": "code",
   "execution_count": 8,
   "id": "84c49fc8-fc96-4e95-a26e-e3f7a08df3c9",
   "metadata": {},
   "outputs": [
    {
     "name": "stdout",
     "output_type": "stream",
     "text": [
      "dt       datetime64[ns]\n",
      "aqi               int64\n",
      "co              float64\n",
      "no              float64\n",
      "no2             float64\n",
      "o3              float64\n",
      "so2             float64\n",
      "pm2_5           float64\n",
      "pm10            float64\n",
      "nh3             float64\n",
      "dtype: object\n"
     ]
    }
   ],
   "source": [
    "\n",
    "air_quality_df['dt'] = pd.to_datetime(air_quality_df['dt'], unit='s')\n",
    "\n",
    "# Check the type of all columns\n",
    "col_dtype =air_quality_df.dtypes\n",
    "print(col_dtype)"
   ]
  },
  {
   "cell_type": "markdown",
   "id": "519ab015",
   "metadata": {},
   "source": [
    "- Remove all the row that has negative values"
   ]
  },
  {
   "cell_type": "code",
   "execution_count": 9,
   "id": "6a87d0ed",
   "metadata": {},
   "outputs": [
    {
     "name": "stdout",
     "output_type": "stream",
     "text": [
      "There are no negative values in the column 'co'\n",
      "There are no negative values in the column 'no'\n",
      "The column 'no2' contains negative values:\n",
      "The column 'o3' contains negative values:\n",
      "There are no negative values in the column 'so2'\n",
      "There are no negative values in the column 'pm2_5'\n",
      "The column 'pm10' contains negative values:\n",
      "There are no negative values in the column 'nh3'\n"
     ]
    }
   ],
   "source": [
    "checking_negative_columns = air_quality_df.select_dtypes(include=['float64']).columns\n",
    "\n",
    "# Identify rows with negative values in each numeric column\n",
    "for column in checking_negative_columns :\n",
    "    negative_values = air_quality_df[air_quality_df[column] < 0]\n",
    "    if negative_values.empty:\n",
    "        print(f\"There are no negative values in the column '{column}'\")\n",
    "    else:\n",
    "        print(f\"The column '{column}' contains negative values:\")\n"
   ]
  },
  {
   "cell_type": "code",
   "execution_count": 10,
   "id": "48f47f22",
   "metadata": {},
   "outputs": [],
   "source": [
    "#remove negative rows \n",
    "mask = (air_quality_df[checking_negative_columns] < 0).any(axis=1)\n",
    "cleaned_df = air_quality_df[~mask]\n",
    "rows_removed = air_quality_df.shape[0] - cleaned_df.shape[0]"
   ]
  },
  {
   "cell_type": "markdown",
   "id": "aa2b51ca",
   "metadata": {},
   "source": [
    "Column AQI should be 'category'"
   ]
  },
  {
   "cell_type": "code",
   "execution_count": 11,
   "id": "e91b432f-c539-4d35-869e-bcd66cd2bc6e",
   "metadata": {},
   "outputs": [
    {
     "name": "stderr",
     "output_type": "stream",
     "text": [
      "C:\\Users\\bkphu\\AppData\\Local\\Temp\\ipykernel_25752\\2518270284.py:2: SettingWithCopyWarning: \n",
      "A value is trying to be set on a copy of a slice from a DataFrame.\n",
      "Try using .loc[row_indexer,col_indexer] = value instead\n",
      "\n",
      "See the caveats in the documentation: https://pandas.pydata.org/pandas-docs/stable/user_guide/indexing.html#returning-a-view-versus-a-copy\n",
      "  cleaned_df['aqi'] = air_quality_df['aqi'].astype('category')\n"
     ]
    },
    {
     "data": {
      "text/plain": [
       "dt       datetime64[ns]\n",
       "aqi            category\n",
       "co              float64\n",
       "no              float64\n",
       "no2             float64\n",
       "o3              float64\n",
       "so2             float64\n",
       "pm2_5           float64\n",
       "pm10            float64\n",
       "nh3             float64\n",
       "dtype: object"
      ]
     },
     "execution_count": 11,
     "metadata": {},
     "output_type": "execute_result"
    }
   ],
   "source": [
    "#Change type of column AQI\n",
    "cleaned_df['aqi'] = air_quality_df['aqi'].astype('category')\n",
    "cleaned_df.dtypes"
   ]
  },
  {
   "cell_type": "markdown",
   "id": "2d382015",
   "metadata": {},
   "source": [
    "- Save data after cleaned"
   ]
  },
  {
   "cell_type": "code",
   "execution_count": 12,
   "id": "ea2f81fe-4e98-4b3d-a87c-d59494310252",
   "metadata": {},
   "outputs": [],
   "source": [
    "cleaned_df.to_csv('../Data/air_quality_cleaned.csv', sep=',', encoding='utf-8', index=False)"
   ]
  },
  {
   "cell_type": "markdown",
   "id": "50858797",
   "metadata": {},
   "source": [
    "### 2.7 For columns with categorical data types, how are the values distributed?"
   ]
  },
  {
   "cell_type": "markdown",
   "id": "beeff36b",
   "metadata": {},
   "source": [
    "- There is only one column that has categorical data types which is the AQI\n",
    "- We will calculate the missing ratio compared to the number of elements in that column (ranging from 0 to 1), the number of unique values, and the frequency count of each unique value. The resulting dataframe will have three rows: \"missing_ratio\", \"num_diff_vals\", and \"value_ratios\"."
   ]
  },
  {
   "cell_type": "code",
   "execution_count": 13,
   "id": "141d3b95",
   "metadata": {},
   "outputs": [
    {
     "data": {
      "text/html": [
       "<div>\n",
       "<style scoped>\n",
       "    .dataframe tbody tr th:only-of-type {\n",
       "        vertical-align: middle;\n",
       "    }\n",
       "\n",
       "    .dataframe tbody tr th {\n",
       "        vertical-align: top;\n",
       "    }\n",
       "\n",
       "    .dataframe thead th {\n",
       "        text-align: right;\n",
       "    }\n",
       "</style>\n",
       "<table border=\"1\" class=\"dataframe\">\n",
       "  <thead>\n",
       "    <tr style=\"text-align: right;\">\n",
       "      <th></th>\n",
       "      <th>aqi</th>\n",
       "    </tr>\n",
       "  </thead>\n",
       "  <tbody>\n",
       "    <tr>\n",
       "      <th>missing_ratio</th>\n",
       "      <td>0.0</td>\n",
       "    </tr>\n",
       "    <tr>\n",
       "      <th>num_diff_vals</th>\n",
       "      <td>5</td>\n",
       "    </tr>\n",
       "    <tr>\n",
       "      <th>value_ratios</th>\n",
       "      <td>{5: 12108, 2: 7815, 4: 7228, 3: 5637, 1: 1025}</td>\n",
       "    </tr>\n",
       "  </tbody>\n",
       "</table>\n",
       "</div>"
      ],
      "text/plain": [
       "                                                          aqi\n",
       "missing_ratio                                             0.0\n",
       "num_diff_vals                                               5\n",
       "value_ratios   {5: 12108, 2: 7815, 4: 7228, 3: 5637, 1: 1025}"
      ]
     },
     "execution_count": 13,
     "metadata": {},
     "output_type": "execute_result"
    }
   ],
   "source": [
    "df_categorical = cleaned_df.select_dtypes(include = 'category')\n",
    "def missing_ratio(series):\n",
    "    return series.isna().mean() * 100\n",
    "def num_diff_vals(series):\n",
    "    return series.nunique()\n",
    "def value_ratios(series):\n",
    "    return dict((series.value_counts()))\n",
    "cate_col_profiles_df = df_categorical.agg([missing_ratio,num_diff_vals,value_ratios])\n",
    "cate_col_profiles_df"
   ]
  },
  {
   "cell_type": "markdown",
   "id": "d4f58d51",
   "metadata": {},
   "source": [
    "- It seems to me there is nothing wrong with this."
   ]
  },
  {
   "cell_type": "code",
   "execution_count": 14,
   "id": "403cc132",
   "metadata": {},
   "outputs": [
    {
     "data": {
      "image/png": "[encoded data removed]",
      "text/plain": [
       "<Figure size 800x600 with 1 Axes>"
      ]
     },
     "metadata": {},
     "output_type": "display_data"
    }
   ],
   "source": [
    "for column in cleaned_df.select_dtypes(include=['category']).columns:\n",
    "    category_counts = air_quality_df[column].value_counts()\n",
    "\n",
    "    # Vẽ biểu đồ tròn\n",
    "    plt.figure(figsize=(8, 6))\n",
    "    category_counts.plot.pie(autopct='%1.1f%%', startangle=140)\n",
    "    plt.title(f'Distribution of AQI')\n",
    "    plt.ylabel('')\n",
    "    plt.show()"
   ]
  },
  {
   "cell_type": "markdown",
   "id": "45ff218a",
   "metadata": {},
   "source": [
    "##### Nhận xét:\n",
    "- Nhìn vào biểu đồ, ta có thể thấy được chất lượng không khí rất kém chiếm tỉ lệ cao nhất (35,6%)\n",
    "- Tỉ lệ chất lượng không khí tốt rất ít (chỉ 3,1%). \n",
    "- Vậy, không khí có chất lượng rất kém và kém rất phổ biển. Điều này có thể mang lại cái nhìn tổng quan về mức độ ô nhiễm không khí hiện nay."
   ]
  },
  {
   "cell_type": "markdown",
   "id": "ccd7349b",
   "metadata": {},
   "source": [
    "### 2.8 For columns with numeric data types, how are the values distributed?"
   ]
  },
  {
   "cell_type": "markdown",
   "id": "41ce733c",
   "metadata": {},
   "source": [
    "- There is 8 columns that has numeric data types, which is `co` , `no` , `no2` , `so2` , `o3` , `pm2.5` , `pm10` , `nh3`\n",
    "- For each numerical column, we will calculate the missing ratio compared to the number of elements in that column (ranging from 0 to 1), the minimum value, and the maximum value. The resulting dataframe will have three rows: \"missing_ratio\", \"min\", \"max\"."
   ]
  },
  {
   "cell_type": "code",
   "execution_count": 15,
   "id": "49aff9bb-c9c0-4317-9090-e19d6f9afa86",
   "metadata": {},
   "outputs": [
    {
     "data": {
      "text/html": [
       "<div>\n",
       "<style scoped>\n",
       "    .dataframe tbody tr th:only-of-type {\n",
       "        vertical-align: middle;\n",
       "    }\n",
       "\n",
       "    .dataframe tbody tr th {\n",
       "        vertical-align: top;\n",
       "    }\n",
       "\n",
       "    .dataframe thead th {\n",
       "        text-align: right;\n",
       "    }\n",
       "</style>\n",
       "<table border=\"1\" class=\"dataframe\">\n",
       "  <thead>\n",
       "    <tr style=\"text-align: right;\">\n",
       "      <th></th>\n",
       "      <th>co</th>\n",
       "      <th>no</th>\n",
       "      <th>no2</th>\n",
       "      <th>o3</th>\n",
       "      <th>so2</th>\n",
       "      <th>pm2_5</th>\n",
       "      <th>pm10</th>\n",
       "      <th>nh3</th>\n",
       "    </tr>\n",
       "  </thead>\n",
       "  <tbody>\n",
       "    <tr>\n",
       "      <th>missing_ratio</th>\n",
       "      <td>0.00</td>\n",
       "      <td>0.00</td>\n",
       "      <td>0.00</td>\n",
       "      <td>0.00</td>\n",
       "      <td>0.00</td>\n",
       "      <td>0.00</td>\n",
       "      <td>0.00</td>\n",
       "      <td>0.00</td>\n",
       "    </tr>\n",
       "    <tr>\n",
       "      <th>min</th>\n",
       "      <td>317.10</td>\n",
       "      <td>0.00</td>\n",
       "      <td>6.34</td>\n",
       "      <td>0.00</td>\n",
       "      <td>5.84</td>\n",
       "      <td>3.45</td>\n",
       "      <td>4.41</td>\n",
       "      <td>1.52</td>\n",
       "    </tr>\n",
       "    <tr>\n",
       "      <th>max</th>\n",
       "      <td>18585.21</td>\n",
       "      <td>393.39</td>\n",
       "      <td>213.86</td>\n",
       "      <td>446.32</td>\n",
       "      <td>270.84</td>\n",
       "      <td>936.13</td>\n",
       "      <td>1034.27</td>\n",
       "      <td>186.44</td>\n",
       "    </tr>\n",
       "  </tbody>\n",
       "</table>\n",
       "</div>"
      ],
      "text/plain": [
       "                     co      no     no2      o3     so2   pm2_5     pm10  \\\n",
       "missing_ratio      0.00    0.00    0.00    0.00    0.00    0.00     0.00   \n",
       "min              317.10    0.00    6.34    0.00    5.84    3.45     4.41   \n",
       "max            18585.21  393.39  213.86  446.32  270.84  936.13  1034.27   \n",
       "\n",
       "                  nh3  \n",
       "missing_ratio    0.00  \n",
       "min              1.52  \n",
       "max            186.44  "
      ]
     },
     "execution_count": 15,
     "metadata": {},
     "output_type": "execute_result"
    }
   ],
   "source": [
    "df_numerical = cleaned_df.select_dtypes(include=np.number)\n",
    "\n",
    "num_col_profiles_df = pd.DataFrame(columns=df_numerical.columns)\n",
    "num_col_profiles_df.loc[\"missing_ratio\"] = df_numerical.isna().mean() * 100\n",
    "num_col_profiles_df.loc[\"min\"] = np.min(df_numerical, axis=0)\n",
    "num_col_profiles_df.loc[\"max\"] = np.max(df_numerical, axis=0)\n",
    "\n",
    "num_col_profiles_df\n"
   ]
  },
  {
   "cell_type": "markdown",
   "id": "d43f9267",
   "metadata": {},
   "source": [
    "- This seems fine to me. There is nothing to worry about"
   ]
  },
  {
   "cell_type": "markdown",
   "id": "36f10f3c",
   "metadata": {},
   "source": [
    "### 2.8 Descriptive statistics."
   ]
  },
  {
   "cell_type": "code",
   "execution_count": 16,
   "id": "db04fb6c-0d62-464e-ad6e-8bbd632cdd66",
   "metadata": {},
   "outputs": [
    {
     "data": {
      "text/html": [
       "<div>\n",
       "<style scoped>\n",
       "    .dataframe tbody tr th:only-of-type {\n",
       "        vertical-align: middle;\n",
       "    }\n",
       "\n",
       "    .dataframe tbody tr th {\n",
       "        vertical-align: top;\n",
       "    }\n",
       "\n",
       "    .dataframe thead th {\n",
       "        text-align: right;\n",
       "    }\n",
       "</style>\n",
       "<table border=\"1\" class=\"dataframe\">\n",
       "  <thead>\n",
       "    <tr style=\"text-align: right;\">\n",
       "      <th></th>\n",
       "      <th>co</th>\n",
       "      <th>no</th>\n",
       "      <th>no2</th>\n",
       "      <th>o3</th>\n",
       "      <th>so2</th>\n",
       "      <th>pm2_5</th>\n",
       "      <th>pm10</th>\n",
       "      <th>nh3</th>\n",
       "    </tr>\n",
       "  </thead>\n",
       "  <tbody>\n",
       "    <tr>\n",
       "      <th>count</th>\n",
       "      <td>33813.000000</td>\n",
       "      <td>33813.000000</td>\n",
       "      <td>33813.000000</td>\n",
       "      <td>33813.000000</td>\n",
       "      <td>33813.000000</td>\n",
       "      <td>33813.000000</td>\n",
       "      <td>33813.000000</td>\n",
       "      <td>33813.000000</td>\n",
       "    </tr>\n",
       "    <tr>\n",
       "      <th>mean</th>\n",
       "      <td>1551.622618</td>\n",
       "      <td>25.209962</td>\n",
       "      <td>38.514035</td>\n",
       "      <td>24.824856</td>\n",
       "      <td>46.140866</td>\n",
       "      <td>67.881627</td>\n",
       "      <td>82.239045</td>\n",
       "      <td>11.156338</td>\n",
       "    </tr>\n",
       "    <tr>\n",
       "      <th>std</th>\n",
       "      <td>1505.860446</td>\n",
       "      <td>39.017120</td>\n",
       "      <td>21.583975</td>\n",
       "      <td>42.397874</td>\n",
       "      <td>28.691124</td>\n",
       "      <td>81.232424</td>\n",
       "      <td>91.478519</td>\n",
       "      <td>9.780257</td>\n",
       "    </tr>\n",
       "    <tr>\n",
       "      <th>min</th>\n",
       "      <td>317.100000</td>\n",
       "      <td>0.000000</td>\n",
       "      <td>6.340000</td>\n",
       "      <td>0.000000</td>\n",
       "      <td>5.840000</td>\n",
       "      <td>3.450000</td>\n",
       "      <td>4.410000</td>\n",
       "      <td>1.520000</td>\n",
       "    </tr>\n",
       "    <tr>\n",
       "      <th>25%</th>\n",
       "      <td>687.600000</td>\n",
       "      <td>1.650000</td>\n",
       "      <td>24.330000</td>\n",
       "      <td>0.020000</td>\n",
       "      <td>26.700000</td>\n",
       "      <td>21.430000</td>\n",
       "      <td>28.800000</td>\n",
       "      <td>6.020000</td>\n",
       "    </tr>\n",
       "    <tr>\n",
       "      <th>50%</th>\n",
       "      <td>1028.060000</td>\n",
       "      <td>9.280000</td>\n",
       "      <td>33.240000</td>\n",
       "      <td>4.340000</td>\n",
       "      <td>38.150000</td>\n",
       "      <td>40.090000</td>\n",
       "      <td>51.150000</td>\n",
       "      <td>8.610000</td>\n",
       "    </tr>\n",
       "    <tr>\n",
       "      <th>75%</th>\n",
       "      <td>1762.390000</td>\n",
       "      <td>32.630000</td>\n",
       "      <td>45.930000</td>\n",
       "      <td>31.830000</td>\n",
       "      <td>56.740000</td>\n",
       "      <td>79.430000</td>\n",
       "      <td>97.370000</td>\n",
       "      <td>12.920000</td>\n",
       "    </tr>\n",
       "    <tr>\n",
       "      <th>max</th>\n",
       "      <td>18585.210000</td>\n",
       "      <td>393.390000</td>\n",
       "      <td>213.860000</td>\n",
       "      <td>446.320000</td>\n",
       "      <td>270.840000</td>\n",
       "      <td>936.130000</td>\n",
       "      <td>1034.270000</td>\n",
       "      <td>186.440000</td>\n",
       "    </tr>\n",
       "  </tbody>\n",
       "</table>\n",
       "</div>"
      ],
      "text/plain": [
       "                 co            no           no2            o3           so2  \\\n",
       "count  33813.000000  33813.000000  33813.000000  33813.000000  33813.000000   \n",
       "mean    1551.622618     25.209962     38.514035     24.824856     46.140866   \n",
       "std     1505.860446     39.017120     21.583975     42.397874     28.691124   \n",
       "min      317.100000      0.000000      6.340000      0.000000      5.840000   \n",
       "25%      687.600000      1.650000     24.330000      0.020000     26.700000   \n",
       "50%     1028.060000      9.280000     33.240000      4.340000     38.150000   \n",
       "75%     1762.390000     32.630000     45.930000     31.830000     56.740000   \n",
       "max    18585.210000    393.390000    213.860000    446.320000    270.840000   \n",
       "\n",
       "              pm2_5          pm10           nh3  \n",
       "count  33813.000000  33813.000000  33813.000000  \n",
       "mean      67.881627     82.239045     11.156338  \n",
       "std       81.232424     91.478519      9.780257  \n",
       "min        3.450000      4.410000      1.520000  \n",
       "25%       21.430000     28.800000      6.020000  \n",
       "50%       40.090000     51.150000      8.610000  \n",
       "75%       79.430000     97.370000     12.920000  \n",
       "max      936.130000   1034.270000    186.440000  "
      ]
     },
     "execution_count": 16,
     "metadata": {},
     "output_type": "execute_result"
    }
   ],
   "source": [
    "\n",
    "df_copy = cleaned_df.drop(['dt', 'aqi'], axis='columns')\n",
    "\n",
    "# Descriptive statistics.\n",
    "statistics = df_copy.describe(include='all')\n",
    "statistics"
   ]
  }
 ],
 "metadata": {
  "kernelspec": {
   "display_name": "base",
   "language": "python",
   "name": "python3"
  },
  "language_info": {
   "codemirror_mode": {
    "name": "ipython",
    "version": 3
   },
   "file_extension": ".py",
   "mimetype": "text/x-python",
   "name": "python",
   "nbconvert_exporter": "python",
   "pygments_lexer": "ipython3",
   "version": "3.11.7"
  }
 },
 "nbformat": 4,
 "nbformat_minor": 5
}
