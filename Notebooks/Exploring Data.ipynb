{
 "cells": [
  {
   "cell_type": "markdown",
   "id": "585e5521-3461-43f4-97a0-92f5209b5195",
   "metadata": {},
   "source": [
    "<div style=\"text-align: center; background-color: #5A96E3; font-family: 'Trebuchet MS', Arial, sans-serif; color: white; padding: 20px; font-size: 40px; font-weight: bold; border-radius: 0 0 0 0; box-shadow: 0px 6px 8px rgba(0, 0, 0, 0.2);\">\n",
    "  Exploring Data</div>"
   ]
  },
  {
   "cell_type": "markdown",
   "id": "cc28c6b2-6632-4a44-a9f0-08a47df1c900",
   "metadata": {},
   "source": [
    "## Import các thư viện cần thiết"
   ]
  },
  {
   "cell_type": "code",
   "execution_count": 56,
   "id": "b1490e82-b114-4122-adfb-25d5ba17f61f",
   "metadata": {},
   "outputs": [],
   "source": [
    "import requests\n",
    "import json\n",
    "import pandas as pd\n",
    "import numpy as np\n",
    "import time\n",
    "import datetime\n",
    "import calendar\n",
    "import seaborn as sns\n",
    "import matplotlib.pyplot as plt"
   ]
  },
  {
   "cell_type": "markdown",
   "id": "7df2778e-260a-4613-b6a7-bf7ec2ae6765",
   "metadata": {},
   "source": [
    "## Tiền xử lý và khám phá dữ liệu"
   ]
  },
  {
   "cell_type": "markdown",
   "id": "84f958c5-00c3-411c-815f-0893caabb794",
   "metadata": {},
   "source": [
    "### Khám phá dữ liệu"
   ]
  },
  {
   "cell_type": "code",
   "execution_count": 57,
   "id": "39f0083f-11f6-45f5-b582-c7d92aabbcb2",
   "metadata": {},
   "outputs": [],
   "source": [
    "air_quality_df = pd.read_csv('../Data/air_quality.csv')"
   ]
  },
  {
   "cell_type": "markdown",
   "id": "b98d43c5-78cd-416e-ad96-91f92b9b3d99",
   "metadata": {},
   "source": [
    "Tổng quan dữ liệu thu được"
   ]
  },
  {
   "cell_type": "code",
   "execution_count": 58,
   "id": "224685ef-6679-4d28-9241-a7e2e8d36f46",
   "metadata": {},
   "outputs": [
    {
     "data": {
      "text/html": [
       "<div>\n",
       "<style scoped>\n",
       "    .dataframe tbody tr th:only-of-type {\n",
       "        vertical-align: middle;\n",
       "    }\n",
       "\n",
       "    .dataframe tbody tr th {\n",
       "        vertical-align: top;\n",
       "    }\n",
       "\n",
       "    .dataframe thead th {\n",
       "        text-align: right;\n",
       "    }\n",
       "</style>\n",
       "<table border=\"1\" class=\"dataframe\">\n",
       "  <thead>\n",
       "    <tr style=\"text-align: right;\">\n",
       "      <th></th>\n",
       "      <th>dt</th>\n",
       "      <th>aqi</th>\n",
       "      <th>co</th>\n",
       "      <th>no</th>\n",
       "      <th>no2</th>\n",
       "      <th>o3</th>\n",
       "      <th>so2</th>\n",
       "      <th>pm2_5</th>\n",
       "      <th>pm10</th>\n",
       "      <th>nh3</th>\n",
       "    </tr>\n",
       "  </thead>\n",
       "  <tbody>\n",
       "    <tr>\n",
       "      <th>0</th>\n",
       "      <td>1609459200</td>\n",
       "      <td>3</td>\n",
       "      <td>700.95</td>\n",
       "      <td>0.44</td>\n",
       "      <td>35.99</td>\n",
       "      <td>17.35</td>\n",
       "      <td>32.90</td>\n",
       "      <td>20.33</td>\n",
       "      <td>26.64</td>\n",
       "      <td>8.99</td>\n",
       "    </tr>\n",
       "    <tr>\n",
       "      <th>1</th>\n",
       "      <td>1609462800</td>\n",
       "      <td>3</td>\n",
       "      <td>847.82</td>\n",
       "      <td>2.46</td>\n",
       "      <td>38.04</td>\n",
       "      <td>18.06</td>\n",
       "      <td>36.24</td>\n",
       "      <td>23.32</td>\n",
       "      <td>30.54</td>\n",
       "      <td>9.37</td>\n",
       "    </tr>\n",
       "    <tr>\n",
       "      <th>2</th>\n",
       "      <td>1609466400</td>\n",
       "      <td>3</td>\n",
       "      <td>894.55</td>\n",
       "      <td>5.25</td>\n",
       "      <td>38.39</td>\n",
       "      <td>23.25</td>\n",
       "      <td>41.01</td>\n",
       "      <td>24.16</td>\n",
       "      <td>31.93</td>\n",
       "      <td>9.25</td>\n",
       "    </tr>\n",
       "    <tr>\n",
       "      <th>3</th>\n",
       "      <td>1609470000</td>\n",
       "      <td>3</td>\n",
       "      <td>827.79</td>\n",
       "      <td>6.20</td>\n",
       "      <td>36.33</td>\n",
       "      <td>33.98</td>\n",
       "      <td>43.39</td>\n",
       "      <td>23.20</td>\n",
       "      <td>30.91</td>\n",
       "      <td>8.61</td>\n",
       "    </tr>\n",
       "    <tr>\n",
       "      <th>4</th>\n",
       "      <td>1609473600</td>\n",
       "      <td>2</td>\n",
       "      <td>660.90</td>\n",
       "      <td>3.69</td>\n",
       "      <td>29.13</td>\n",
       "      <td>54.36</td>\n",
       "      <td>35.76</td>\n",
       "      <td>19.50</td>\n",
       "      <td>25.60</td>\n",
       "      <td>6.21</td>\n",
       "    </tr>\n",
       "    <tr>\n",
       "      <th>5</th>\n",
       "      <td>1609477200</td>\n",
       "      <td>3</td>\n",
       "      <td>614.17</td>\n",
       "      <td>2.77</td>\n",
       "      <td>27.76</td>\n",
       "      <td>67.95</td>\n",
       "      <td>34.81</td>\n",
       "      <td>20.08</td>\n",
       "      <td>25.64</td>\n",
       "      <td>5.32</td>\n",
       "    </tr>\n",
       "    <tr>\n",
       "      <th>6</th>\n",
       "      <td>1609480800</td>\n",
       "      <td>3</td>\n",
       "      <td>600.82</td>\n",
       "      <td>2.38</td>\n",
       "      <td>26.05</td>\n",
       "      <td>80.82</td>\n",
       "      <td>34.33</td>\n",
       "      <td>21.10</td>\n",
       "      <td>26.28</td>\n",
       "      <td>5.00</td>\n",
       "    </tr>\n",
       "    <tr>\n",
       "      <th>7</th>\n",
       "      <td>1609484400</td>\n",
       "      <td>3</td>\n",
       "      <td>554.09</td>\n",
       "      <td>1.90</td>\n",
       "      <td>22.28</td>\n",
       "      <td>91.55</td>\n",
       "      <td>28.85</td>\n",
       "      <td>20.34</td>\n",
       "      <td>25.04</td>\n",
       "      <td>4.43</td>\n",
       "    </tr>\n",
       "    <tr>\n",
       "      <th>8</th>\n",
       "      <td>1609488000</td>\n",
       "      <td>2</td>\n",
       "      <td>514.03</td>\n",
       "      <td>1.17</td>\n",
       "      <td>20.74</td>\n",
       "      <td>85.83</td>\n",
       "      <td>24.32</td>\n",
       "      <td>17.08</td>\n",
       "      <td>21.14</td>\n",
       "      <td>3.96</td>\n",
       "    </tr>\n",
       "    <tr>\n",
       "      <th>9</th>\n",
       "      <td>1609491600</td>\n",
       "      <td>2</td>\n",
       "      <td>500.68</td>\n",
       "      <td>0.66</td>\n",
       "      <td>19.19</td>\n",
       "      <td>75.10</td>\n",
       "      <td>20.98</td>\n",
       "      <td>14.04</td>\n",
       "      <td>17.46</td>\n",
       "      <td>3.61</td>\n",
       "    </tr>\n",
       "  </tbody>\n",
       "</table>\n",
       "</div>"
      ],
      "text/plain": [
       "           dt  aqi      co    no    no2     o3    so2  pm2_5   pm10   nh3\n",
       "0  1609459200    3  700.95  0.44  35.99  17.35  32.90  20.33  26.64  8.99\n",
       "1  1609462800    3  847.82  2.46  38.04  18.06  36.24  23.32  30.54  9.37\n",
       "2  1609466400    3  894.55  5.25  38.39  23.25  41.01  24.16  31.93  9.25\n",
       "3  1609470000    3  827.79  6.20  36.33  33.98  43.39  23.20  30.91  8.61\n",
       "4  1609473600    2  660.90  3.69  29.13  54.36  35.76  19.50  25.60  6.21\n",
       "5  1609477200    3  614.17  2.77  27.76  67.95  34.81  20.08  25.64  5.32\n",
       "6  1609480800    3  600.82  2.38  26.05  80.82  34.33  21.10  26.28  5.00\n",
       "7  1609484400    3  554.09  1.90  22.28  91.55  28.85  20.34  25.04  4.43\n",
       "8  1609488000    2  514.03  1.17  20.74  85.83  24.32  17.08  21.14  3.96\n",
       "9  1609491600    2  500.68  0.66  19.19  75.10  20.98  14.04  17.46  3.61"
      ]
     },
     "execution_count": 58,
     "metadata": {},
     "output_type": "execute_result"
    }
   ],
   "source": [
    "# Hiển thị 10 dòng đầu của dữ liệu\n",
    "air_quality_df.head(10)"
   ]
  },
  {
   "cell_type": "markdown",
   "id": "46e01d17-15e0-447d-993e-03182910588b",
   "metadata": {},
   "source": [
    "**Dữ liệu có bao nhiêu hàng, bao nhiêu cột?**"
   ]
  },
  {
   "cell_type": "code",
   "execution_count": 59,
   "id": "385700b3-057f-4805-bc41-fb6e6595eea2",
   "metadata": {},
   "outputs": [
    {
     "name": "stdout",
     "output_type": "stream",
     "text": [
      "Dữ liệu có: 33817 hàng, 10 cột.\n"
     ]
    }
   ],
   "source": [
    "n_rows, n_cols = air_quality_df.shape\n",
    "\n",
    "print(f\"Dữ liệu có: {n_rows} hàng, {n_cols} cột.\")"
   ]
  },
  {
   "cell_type": "markdown",
   "id": "9f06f949-f577-468d-a797-2e268a031282",
   "metadata": {},
   "source": [
    "**Dữ liệu các dòng có bị lặp không?**"
   ]
  },
  {
   "cell_type": "code",
   "execution_count": 60,
   "id": "6528e8e1-51f9-4f7c-826b-7bda2e4b7702",
   "metadata": {},
   "outputs": [
    {
     "name": "stdout",
     "output_type": "stream",
     "text": [
      "Dữ liệu không có dòng lặp.!\n"
     ]
    }
   ],
   "source": [
    "num_duplicated_rows = air_quality_df.duplicated().sum()\n",
    "if num_duplicated_rows == 0:\n",
    "    print(f\"Dữ liệu không có dòng lặp.!\")\n",
    "else:\n",
    "    print(f\"Dữ liệu có {num_duplicated_rows} dòng lặp.\")"
   ]
  },
  {
   "cell_type": "markdown",
   "id": "468f0628-1a8c-4b5d-8e21-616ea04b6cee",
   "metadata": {},
   "source": [
    "Vậy là ta có đủ lượng dữ liệu cần và các dòng dữ liệu cũng không bị trùng lặp.\n",
    "\n",
    "Chúng ta sẽ khám phá ý nghĩa của dữ liệu."
   ]
  },
  {
   "cell_type": "markdown",
   "id": "516e3f4f-12ac-4136-9159-d58c38b17e69",
   "metadata": {},
   "source": [
    "**Ý nghĩa của dữ liệu**"
   ]
  },
  {
   "cell_type": "markdown",
   "id": "512d9911-6135-48ed-a0b5-cd0c09800947",
   "metadata": {},
   "source": [
    "- Quan sát tổng thể ta có thể thấy mỗi dòng là số liệu của các loại chất để xác định mức độ ô nhiễm.\n",
    "\n",
    "- Trong dữ liệu có cột dt để lưu lại thời gian ghi nhận số liệu, thời gian ghi nhận tính từ `01 tháng 01 năm 2021 00:00:00` đến `01 tháng 12 năm 2023 00:00:00`. Mỗi dòng là số liệu ghi nhận sau 1 giờ đồng hồ (mỗi dòng hơn nhau 3600 đơn vị).\n",
    "\n",
    "- Bên cạnh đó ta có chỉ số chất lượng không khí là aqi. Các giá trị có thể có: 1, 2, 3, 4, 5. Trong đó:\n",
    "    - 1 : Tốt\n",
    "    - 2 : Khá\n",
    "    - 3 : Trung bình\n",
    "    - 4 : Kém\n",
    "    - 5 : Rất Kém\n",
    "- Dữ liệu trả về cũng bao gồm hàm lượng các chất ô nhiễm như sau:\n",
    "    - CO (Carbon Monoxide - Monoxit Carbon):\n",
    "\n",
    "        - Là khí màu không, không mùi, được tạo ra từ quá trình đốt cháy không hoàn toàn của nhiên liệu hóa thạch (như xăng, khí tự nhiên, than, và gỗ).\n",
    "        - Thường được phát thải từ các phương tiện giao thông, quá trình công nghiệp và nguồn gốc tự nhiên.\n",
    "        - Tiếp xúc với nồng độ cao có thể gây đau đầu, chóng mặt, buồn nôn và trong các trường hợp nghiêm trọng có thể gây tử vong.\n",
    "    - NO (Nitric Oxide - Nitơ Oxít) và NO2 (Nitrogen Dioxide - Nitơ Điôxít):\n",
    "\n",
    "        - Cả hai đều là khí được tạo ra từ quá trình đốt cháy, chủ yếu từ các phương tiện giao thông và hoạt động công nghiệp.\n",
    "        - NO là chất tiền thân của NO2 trong không khí.\n",
    "        - NO2 góp phần tạo thành sương mù và mưa axit.\n",
    "        - Tiếp xúc lâu dài có thể gây ra các vấn đề về hệ hô hấp và làm trầm trọng thêm các bệnh về phổi như hen suyễn và các bệnh về phổi khác.\n",
    "    - O3 (Ozone - Ozon):\n",
    "\n",
    "        - Là khí gồm ba nguyên tử ôxy.\n",
    "        - Được tạo thành từ phản ứng hóa học giữa oxít nitơ (NOx) và các hợp chất hữu cơ bay hơi (VOC) dưới ánh nắng mặt trời.\n",
    "        - Ở mức độ sát đất, ozone là thành phần chính của sương mù.\n",
    "        - Hít thở ozone có thể gây kích ứng họng, ho, đau ngực và làm trầm trọng các vấn đề về hệ hô hấp.\n",
    "    - SO2 (Sulfur Dioxide - Lưu huỳnh Điôxít):\n",
    "\n",
    "        - Là khí được tạo ra từ đốt cháy nhiên liệu hóa thạch chứa lưu huỳnh (than và dầu) và các quá trình công nghiệp (như khai thác kim loại).\n",
    "        - Đóng góp lớn vào việc tạo ra mưa axit.\n",
    "        - Hít thở SO2 có thể gây kích ứng mũi và họng, vấn đề hô hấp và làm trầm trọng các vấn đề về hen suyễn.\n",
    "    - PM2.5 và PM10 (Chất hạt bụi):\n",
    "\n",
    "        - PM2.5 đề cập đến các hạt bụi nhỏ có đường kính thường là 2.5 micromet và nhỏ hơn.\n",
    "        - PM10 bao gồm các hạt có đường kính lên đến 10 micromet.\n",
    "        - Nguồn gốc bao gồm phát thải từ phương tiện giao thông, quá trình công nghiệp, hoạt động xây dựng và các nguồn tự nhiên như bão cát.\n",
    "        - PM2.5 và PM10 có thể xâm nhập sâu vào phổi và gây ra các vấn đề về hô hấp, vấn đề về tim mạch và các tác động khác đối với sức khỏe.\n",
    "    - NH3 (Ammonia - Amoniac):\n",
    "\n",
    "        - Là hợp chất chủ yếu được phát ra từ hoạt động nông nghiệp, chất thải động vật và các quá trình công nghiệp.\n",
    "        - Đóng góp vào việc tạo ra các hạt bụi mịn và có thể phản ứng với các chất ô nhiễm khác trong không khí.\n",
    "        - Hít thở NH3 có thể gây kích ứng mắt, mũi và họng.\n",
    "    \n",
    "Chi tiết về thang đo ô nhiễm nằm ở bảng sau:\n",
    "         <table class=\"material-table\">\n",
    "<thead>\n",
    "  <tr>\n",
    "    <th>Qualitative name</th>\n",
    "    <th>Index</th>\n",
    "    <th colspan=\"6\">Pollutant concentration in &mu;g/m<sup>3</sup></th>\n",
    "  </tr>\n",
    "</thead>\n",
    "<tbody>\n",
    "  <tr>\n",
    "    <td  colspan=\"2\"></td>\n",
    "    <td >SO<sub>2</sub></td>\n",
    "    <td >NO<sub>2</sub></td>\n",
    "    <td >PM<sub>10</sub></td>\n",
    "    <td >PM<sub>2.5</sub></td>\n",
    "    <td >O<sub>3</sub></td>\n",
    "    <td >CO</td>\n",
    "  </tr>\n",
    "  <tr>\n",
    "    <td >Good</td>\n",
    "    <td >1</td>\n",
    "    <td >[0; 20)</td>\n",
    "    <td >[0; 40)</td>\n",
    "    <td >[0; 20)</td>\n",
    "    <td >[0; 10)</td>\n",
    "    <td >[0; 60)</td>\n",
    "    <td >[0; 4400)</td>\n",
    "  </tr>\n",
    "  <tr>\n",
    "    <td >Fair</td>\n",
    "    <td >2</td>\n",
    "    <td >[20; 80)</td>\n",
    "    <td >[40; 70)</td>\n",
    "    <td >[20; 50)</td>\n",
    "    <td >[10; 25)</td>\n",
    "    <td >[60; 100)</td>\n",
    "    <td >[4400; 9400)</td>\n",
    "  </tr>\n",
    "  <tr>\n",
    "    <td >Moderate</td>\n",
    "    <td >3</td>\n",
    "    <td >[80; 250)</td>\n",
    "    <td >[70; 150)</td>\n",
    "    <td >[50; 100)</td>\n",
    "    <td >[25; 50)</td>\n",
    "    <td >[100; 140)</td>\n",
    "    <td >[9400-12400)</td>\n",
    "  </tr>\n",
    "  <tr>\n",
    "    <td >Poor</td>\n",
    "    <td >4</td>\n",
    "    <td >[250; 350)</td>\n",
    "    <td >[150; 200)</td>\n",
    "    <td >[100; 200)</td>\n",
    "    <td >[50; 75)</td>\n",
    "    <td >[140; 180)</td>\n",
    "    <td >[12400; 15400)</td>\n",
    "  </tr>\n",
    "  <tr>\n",
    "    <td >Very Poor</td>\n",
    "    <td >5</td>\n",
    "    <td >⩾350</td>\n",
    "    <td >⩾200</td>\n",
    "    <td >⩾200</td>\n",
    "    <td >⩾75</td>\n",
    "    <td >⩾180</td>\n",
    "    <td >⩾15400</td>\n",
    "  </tr>\n",
    "</tbody>\n",
    "</table>"
   ]
  },
  {
   "cell_type": "markdown",
   "id": "5a7cbf94-1f58-44e2-8b32-63191c6a2bc6",
   "metadata": {},
   "source": [
    "### Chuyển đổi kiểu dữ liệu & xử lý dữ liệu bị thiếu"
   ]
  },
  {
   "cell_type": "markdown",
   "id": "159c631c-f3c7-414f-8151-e8a212fc5ce0",
   "metadata": {},
   "source": [
    "**Mỗi cột hiện có kiểu dữ liệu là gì? Có cột nào có kiểu dữ liệu không phù hợp để xử lý tiếp không?**"
   ]
  },
  {
   "cell_type": "code",
   "execution_count": 61,
   "id": "49bbcfd0-a2cc-4dc0-a214-2e64daf53e72",
   "metadata": {},
   "outputs": [
    {
     "data": {
      "text/plain": [
       "dt         int64\n",
       "aqi        int64\n",
       "co       float64\n",
       "no       float64\n",
       "no2      float64\n",
       "o3       float64\n",
       "so2      float64\n",
       "pm2_5    float64\n",
       "pm10     float64\n",
       "nh3      float64\n",
       "dtype: object"
      ]
     },
     "execution_count": 61,
     "metadata": {},
     "output_type": "execute_result"
    }
   ],
   "source": [
    "air_quality_df.dtypes"
   ]
  },
  {
   "cell_type": "markdown",
   "id": "6f97f06d-0db0-4bab-80d9-313bd32448b4",
   "metadata": {},
   "source": [
    "Ta quan sát thấy cột `dt` có kiểu `int64`. Mà cột `dt` là cột lưu lại thời gian ghi nhận số liệu, vì vậy ta có thể chuyển đổi cột `dt` sang kiểu `datetime`."
   ]
  },
  {
   "cell_type": "code",
   "execution_count": 62,
   "id": "ff34f4d8-f3ec-473b-b975-9ffe1c0f55bc",
   "metadata": {},
   "outputs": [
    {
     "data": {
      "text/plain": [
       "dt       datetime64[ns]\n",
       "aqi               int64\n",
       "co              float64\n",
       "no              float64\n",
       "no2             float64\n",
       "o3              float64\n",
       "so2             float64\n",
       "pm2_5           float64\n",
       "pm10            float64\n",
       "nh3             float64\n",
       "dtype: object"
      ]
     },
     "execution_count": 62,
     "metadata": {},
     "output_type": "execute_result"
    }
   ],
   "source": [
    "# chuyển cột 'dt' sang kiểu 'datetime'\n",
    "air_quality_df['dt'] = pd.to_datetime(air_quality_df['dt'], unit='s')\n",
    "\n",
    "# kiểm tra kết quả\n",
    "air_quality_df.dtypes"
   ]
  },
  {
   "cell_type": "markdown",
   "id": "d67caba0-5b46-49a7-a873-fe3f72389557",
   "metadata": {},
   "source": [
    "Ta thấy aqi là chỉ số có giá trị từ 1-5 nên ta có thể chuyển cột `aqi` sang kiểu `category`"
   ]
  },
  {
   "cell_type": "code",
   "execution_count": 63,
   "id": "84c49fc8-fc96-4e95-a26e-e3f7a08df3c9",
   "metadata": {},
   "outputs": [
    {
     "data": {
      "text/plain": [
       "dt       datetime64[ns]\n",
       "aqi            category\n",
       "co              float64\n",
       "no              float64\n",
       "no2             float64\n",
       "o3              float64\n",
       "so2             float64\n",
       "pm2_5           float64\n",
       "pm10            float64\n",
       "nh3             float64\n",
       "dtype: object"
      ]
     },
     "execution_count": 63,
     "metadata": {},
     "output_type": "execute_result"
    }
   ],
   "source": [
    "# chuyển cột 'aqi' sang kiểu 'category'\n",
    "air_quality_df['aqi'] = air_quality_df['aqi'].astype('category')\n",
    "\n",
    "# kiểm tra kết quả\n",
    "air_quality_df.dtypes"
   ]
  },
  {
   "cell_type": "markdown",
   "id": "ea9c1db7-f8be-41d2-94c4-c90862d73c02",
   "metadata": {},
   "source": [
    "**Dữ liệu có bị thiếu không ?**"
   ]
  },
  {
   "cell_type": "code",
   "execution_count": 64,
   "id": "e91b432f-c539-4d35-869e-bcd66cd2bc6e",
   "metadata": {},
   "outputs": [
    {
     "name": "stdout",
     "output_type": "stream",
     "text": [
      "Không có dữ liệu bị thiếu.\n"
     ]
    }
   ],
   "source": [
    "# Kiểm tra dữ liệu bị thiếu\n",
    "missing_data = air_quality_df.isna().any()\n",
    "\n",
    "if missing_data.any():\n",
    "    print(\"Có dữ liệu bị thiếu:\")\n",
    "    print(missing_data)\n",
    "else:\n",
    "    print(\"Không có dữ liệu bị thiếu.\")"
   ]
  },
  {
   "cell_type": "markdown",
   "id": "47c62fe5-c31f-40ac-8830-e3dd594926d4",
   "metadata": {},
   "source": [
    "Không phải xử lý dữ liệu bị thiếu vì không có giá trị nào bị thiếu cần xử lý."
   ]
  },
  {
   "cell_type": "markdown",
   "id": "6f73e163-7780-4820-b1a9-22d4a45786a5",
   "metadata": {},
   "source": [
    "**Có dữ liệu không hợp lệ không?**"
   ]
  },
  {
   "cell_type": "markdown",
   "id": "19fcba7e-122a-4aa0-bb42-3d6ba72de512",
   "metadata": {},
   "source": [
    "Với những cột có dữ liệu số, giá trị của chúng phải lớn hơn hoặc bằng 0"
   ]
  },
  {
   "cell_type": "code",
   "execution_count": 65,
   "id": "065d0300-da91-4237-8d90-053aa9dd1ea4",
   "metadata": {},
   "outputs": [
    {
     "name": "stdout",
     "output_type": "stream",
     "text": [
      "Không có giá trị bé hơn 0 trong cột 'co'\n",
      "Không có giá trị bé hơn 0 trong cột 'no'\n",
      "Có giá trị bé hơn 0 trong cột 'no2'\n",
      "Có giá trị bé hơn 0 trong cột 'o3'\n",
      "Không có giá trị bé hơn 0 trong cột 'so2'\n",
      "Không có giá trị bé hơn 0 trong cột 'pm2_5'\n",
      "Có giá trị bé hơn 0 trong cột 'pm10'\n",
      "Không có giá trị bé hơn 0 trong cột 'nh3'\n"
     ]
    }
   ],
   "source": [
    "numeric_columns = air_quality_df.select_dtypes(include=['float64']).columns\n",
    "\n",
    "# Kiểm tra xem các giá trị trong từng cột có bé hơn 0 không\n",
    "for column in numeric_columns:\n",
    "    values_smaller_than_zero = air_quality_df[air_quality_df[column] < 0]\n",
    "    if values_smaller_than_zero.empty:\n",
    "        print(f\"Không có giá trị bé hơn 0 trong cột '{column}'\")\n",
    "    else:\n",
    "        print(f\"Có giá trị bé hơn 0 trong cột '{column}'\")\n",
    "     "
   ]
  },
  {
   "cell_type": "markdown",
   "id": "4523bc64-762b-4be6-9f00-535cea101087",
   "metadata": {},
   "source": [
    "Có giá trị bé hơn 0 ở cột `o3`, có thể xóa dòng đó ra khỏi data. Lưu data sau xử lý thành `cleaned_df` để sử dụng"
   ]
  },
  {
   "cell_type": "code",
   "execution_count": 66,
   "id": "5fcb64a6-8da7-4776-9857-0e7555e80858",
   "metadata": {},
   "outputs": [
    {
     "name": "stdout",
     "output_type": "stream",
     "text": [
      "Số dòng đã bị xóa: 4\n"
     ]
    }
   ],
   "source": [
    "# Tạo một mask để xác định các dòng có giá trị bé hơn 0\n",
    "mask = (air_quality_df[numeric_columns] < 0).any(axis=1)\n",
    "\n",
    "# Xóa các dòng có giá trị bé hơn 0 và lưu thành cleaned_\n",
    "cleaned_df = air_quality_df[~mask]\n",
    "\n",
    "# Hiển thị thông tin về số dòng bị xóa\n",
    "rows_removed = air_quality_df.shape[0] - cleaned_df.shape[0]\n",
    "print(f\"Số dòng đã bị xóa: {rows_removed}\")"
   ]
  },
  {
   "cell_type": "markdown",
   "id": "2d60dd73-0d01-44c9-ae8f-a6fdcf3fe3d8",
   "metadata": {},
   "source": [
    "Lưu data sau khi xử lý vào thư mục `/Data`"
   ]
  },
  {
   "cell_type": "code",
   "execution_count": 67,
   "id": "ea2f81fe-4e98-4b3d-a87c-d59494310252",
   "metadata": {},
   "outputs": [],
   "source": [
    "cleaned_df.to_csv('../Data/air_quality_cleaned.csv', sep=',', encoding='utf-8', index=False)"
   ]
  },
  {
   "cell_type": "markdown",
   "id": "923d2985-a356-4320-bb4e-cc8ff2a0ec4f",
   "metadata": {},
   "source": [
    "### Với cột có kiểu dữ liệu non-numeric, chúng ta sẽ xem các giá trị đó được phân phối như thế nào?"
   ]
  },
  {
   "cell_type": "markdown",
   "id": "328d5dc6-6658-480d-b03b-1c5d337025aa",
   "metadata": {},
   "source": [
    "Đối với các cột có kiểu dữ liệu không phải là số, nhóm em sẽ tính:\n",
    "- Phần trăm (từ 0 đến 100) của giá trị thiếu sót.\n",
    "- Số lượng giá trị (các giá trị ở đây là các giá trị khác nhau và không xét giá trị thiếu).\n",
    "- Phần trăm (từ 0 đến 100) của mỗi giá trị được sắp xếp theo tỉ lệ phần trăm giảm dần.\n",
    "- Lưu kết quả vào DataFrame cat_col_info_df, trong đó:\n",
    "    - Tên của các cột là tên của các cột không phải là số trong air_quality_df.\n",
    "    - Tên của các dòng là: \"missing_ratio\", \"num_values\", \"value_ratios\"."
   ]
  },
  {
   "cell_type": "code",
   "execution_count": 68,
   "id": "50dbc780-7635-4dcb-a6b2-6553aa53973a",
   "metadata": {},
   "outputs": [
    {
     "data": {
      "text/html": [
       "<div>\n",
       "<style scoped>\n",
       "    .dataframe tbody tr th:only-of-type {\n",
       "        vertical-align: middle;\n",
       "    }\n",
       "\n",
       "    .dataframe tbody tr th {\n",
       "        vertical-align: top;\n",
       "    }\n",
       "\n",
       "    .dataframe thead th {\n",
       "        text-align: right;\n",
       "    }\n",
       "</style>\n",
       "<table border=\"1\" class=\"dataframe\">\n",
       "  <thead>\n",
       "    <tr style=\"text-align: right;\">\n",
       "      <th></th>\n",
       "      <th>aqi</th>\n",
       "    </tr>\n",
       "  </thead>\n",
       "  <tbody>\n",
       "    <tr>\n",
       "      <th>missing_ratio</th>\n",
       "      <td>0.0</td>\n",
       "    </tr>\n",
       "    <tr>\n",
       "      <th>num_values</th>\n",
       "      <td>5</td>\n",
       "    </tr>\n",
       "    <tr>\n",
       "      <th>value_ratios</th>\n",
       "      <td>{5: 35.8, 2: 23.1, 4: 21.4, 3: 16.7, 1: 3.0}</td>\n",
       "    </tr>\n",
       "  </tbody>\n",
       "</table>\n",
       "</div>"
      ],
      "text/plain": [
       "                                                        aqi\n",
       "missing_ratio                                           0.0\n",
       "num_values                                                5\n",
       "value_ratios   {5: 35.8, 2: 23.1, 4: 21.4, 3: 16.7, 1: 3.0}"
      ]
     },
     "execution_count": 68,
     "metadata": {},
     "output_type": "execute_result"
    }
   ],
   "source": [
    "cat_col_info_df = cleaned_df.select_dtypes(include='category')\n",
    "\n",
    "# Phần trăm missing value\n",
    "def missing_ratio(series):\n",
    "    return series.isna().mean() * 100\n",
    "\n",
    "# Số lượng giá trị\n",
    "def num_values(series):\n",
    "    return series.nunique()\n",
    "\n",
    "# Tỉ lệ mỗi giá trị\n",
    "def value_ratios(series):\n",
    "    value_ratios=(((series.value_counts(normalize=True)*100)).round(1)).to_dict()\n",
    "    return value_ratios\n",
    "\n",
    "cat_col_info_df = (cat_col_info_df.agg([missing_ratio, num_values, value_ratios]))\n",
    "\n",
    "cat_col_info_df "
   ]
  },
  {
   "cell_type": "code",
   "execution_count": 69,
   "id": "b7108b56-b014-4937-a01f-710cf43eca14",
   "metadata": {},
   "outputs": [
    {
     "data": {
      "image/png": "[encoded data removed]",
      "text/plain": [
       "<Figure size 1200x600 with 1 Axes>"
      ]
     },
     "metadata": {},
     "output_type": "display_data"
    }
   ],
   "source": [
    "# Biểu đồ phân tán cho tỷ lệ giá trị\n",
    "plt.figure(figsize=(12, 6))\n",
    "sns.barplot(x=list(cat_col_info_df.loc['value_ratios']['aqi'].keys()), \n",
    "            y=list(cat_col_info_df.loc['value_ratios']['aqi'].values()))\n",
    "plt.title('Value Ratios for AQI')\n",
    "plt.xlabel('Unique Values in AQI')\n",
    "plt.ylabel('Percentage (%)')\n",
    "plt.show()"
   ]
  },
  {
   "cell_type": "markdown",
   "id": "4272349d-bce6-40a3-bb9a-c815db5fdec8",
   "metadata": {},
   "source": [
    "##### Nhận xét:\n",
    "- Nhìn vào biểu đồ, ta có thể thấy được chất lượng không khí rất kém chiếm tỉ lệ cao nhất (35,6%)\n",
    "- Tỉ lệ chất lượng không khí tốt rất ít (chỉ 3,1%). \n",
    "- Vậy, không khí có chất lượng rất kém và kém rất phổ biển. Điều này có thể mang lại cái nhìn tổng quan về mức độ ô nhiễm không khí hiện nay."
   ]
  },
  {
   "cell_type": "markdown",
   "id": "fe5051f4-42f9-447c-84fd-48e28fa5767f",
   "metadata": {},
   "source": [
    "### Với cột có kiểu dữ liệu numeric, chúng ta sẽ xem các giá trị đó được phân phối như thế nào?"
   ]
  },
  {
   "cell_type": "markdown",
   "id": "2f210500-6fcb-485a-8d63-26463dfef5d3",
   "metadata": {},
   "source": [
    "Đối với các cột có kiểu dữ liệu số, nhóm em sẽ tính:\n",
    "- Tỷ lệ phần trăm (từ 0 đến 100) giá trị bị thiếu\n",
    "- Tối thiểu (Min)\n",
    "- Tứ phân vị dưới (phân vị 25)\n",
    "- Trung vị (phân vị 50)\n",
    "- Tứ phân vị trên (phân vị 75)\n",
    "- Tối đa (Max)\n",
    "- Lưu kết quả vào DataFrame `num_col_info_df`, trong đó:\n",
    "    - Tên của các cột là tên của các cột là số trong air_quality_df.\n",
    "    - Tên của các dòng là: \"missing_ratio\", \"min\", \"lower_quartile\", \"median\", \"upper_quartile\", \"max\" ."
   ]
  },
  {
   "cell_type": "code",
   "execution_count": 70,
   "id": "49aff9bb-c9c0-4317-9090-e19d6f9afa86",
   "metadata": {},
   "outputs": [
    {
     "data": {
      "text/html": [
       "<div>\n",
       "<style scoped>\n",
       "    .dataframe tbody tr th:only-of-type {\n",
       "        vertical-align: middle;\n",
       "    }\n",
       "\n",
       "    .dataframe tbody tr th {\n",
       "        vertical-align: top;\n",
       "    }\n",
       "\n",
       "    .dataframe thead th {\n",
       "        text-align: right;\n",
       "    }\n",
       "</style>\n",
       "<table border=\"1\" class=\"dataframe\">\n",
       "  <thead>\n",
       "    <tr style=\"text-align: right;\">\n",
       "      <th></th>\n",
       "      <th>co</th>\n",
       "      <th>no</th>\n",
       "      <th>no2</th>\n",
       "      <th>o3</th>\n",
       "      <th>so2</th>\n",
       "      <th>pm2_5</th>\n",
       "      <th>pm10</th>\n",
       "      <th>nh3</th>\n",
       "    </tr>\n",
       "  </thead>\n",
       "  <tbody>\n",
       "    <tr>\n",
       "      <th>missing_ratio</th>\n",
       "      <td>0.0</td>\n",
       "      <td>0.0</td>\n",
       "      <td>0.0</td>\n",
       "      <td>0.0</td>\n",
       "      <td>0.0</td>\n",
       "      <td>0.0</td>\n",
       "      <td>0.0</td>\n",
       "      <td>0.0</td>\n",
       "    </tr>\n",
       "    <tr>\n",
       "      <th>min</th>\n",
       "      <td>317.1</td>\n",
       "      <td>0.0</td>\n",
       "      <td>6.3</td>\n",
       "      <td>0.0</td>\n",
       "      <td>5.8</td>\n",
       "      <td>3.4</td>\n",
       "      <td>4.4</td>\n",
       "      <td>1.5</td>\n",
       "    </tr>\n",
       "    <tr>\n",
       "      <th>lower_quartile</th>\n",
       "      <td>687.6</td>\n",
       "      <td>1.6</td>\n",
       "      <td>24.3</td>\n",
       "      <td>0.0</td>\n",
       "      <td>26.7</td>\n",
       "      <td>21.4</td>\n",
       "      <td>28.8</td>\n",
       "      <td>6.0</td>\n",
       "    </tr>\n",
       "    <tr>\n",
       "      <th>median</th>\n",
       "      <td>1028.1</td>\n",
       "      <td>9.3</td>\n",
       "      <td>33.2</td>\n",
       "      <td>4.3</td>\n",
       "      <td>38.2</td>\n",
       "      <td>40.1</td>\n",
       "      <td>51.2</td>\n",
       "      <td>8.6</td>\n",
       "    </tr>\n",
       "    <tr>\n",
       "      <th>upper_quartile</th>\n",
       "      <td>1762.4</td>\n",
       "      <td>32.6</td>\n",
       "      <td>45.9</td>\n",
       "      <td>31.8</td>\n",
       "      <td>56.7</td>\n",
       "      <td>79.4</td>\n",
       "      <td>97.4</td>\n",
       "      <td>12.9</td>\n",
       "    </tr>\n",
       "    <tr>\n",
       "      <th>max</th>\n",
       "      <td>18585.2</td>\n",
       "      <td>393.4</td>\n",
       "      <td>213.9</td>\n",
       "      <td>446.3</td>\n",
       "      <td>270.8</td>\n",
       "      <td>936.1</td>\n",
       "      <td>1034.3</td>\n",
       "      <td>186.4</td>\n",
       "    </tr>\n",
       "  </tbody>\n",
       "</table>\n",
       "</div>"
      ],
      "text/plain": [
       "                     co     no    no2     o3    so2  pm2_5    pm10    nh3\n",
       "missing_ratio       0.0    0.0    0.0    0.0    0.0    0.0     0.0    0.0\n",
       "min               317.1    0.0    6.3    0.0    5.8    3.4     4.4    1.5\n",
       "lower_quartile    687.6    1.6   24.3    0.0   26.7   21.4    28.8    6.0\n",
       "median           1028.1    9.3   33.2    4.3   38.2   40.1    51.2    8.6\n",
       "upper_quartile   1762.4   32.6   45.9   31.8   56.7   79.4    97.4   12.9\n",
       "max             18585.2  393.4  213.9  446.3  270.8  936.1  1034.3  186.4"
      ]
     },
     "execution_count": 70,
     "metadata": {},
     "output_type": "execute_result"
    }
   ],
   "source": [
    "num_col_info_df = None\n",
    "num_col_info_df = cleaned_df.select_dtypes(['float64'])\n",
    "\n",
    "# Phần trăm missing value\n",
    "def missing_ratio(col):\n",
    "    return col.isna().mean()*100\n",
    "\n",
    "# Tứ phân vị dưới (25%)\n",
    "def lower_quartile(col):\n",
    "    return col.quantile(0.25)\n",
    "\n",
    "# Trung vị (50%)\n",
    "def median(col):\n",
    "    return col.median()\n",
    "\n",
    "# Tứ phân vị trên (75%)\n",
    "def upper_quartile(col):\n",
    "    return col.quantile(0.75)\n",
    "\n",
    "\n",
    "num_col_info_df = num_col_info_df.agg([missing_ratio, \"min\",lower_quartile, median, upper_quartile, \"max\"])\n",
    "num_col_info_df.round(1)\n"
   ]
  },
  {
   "cell_type": "code",
   "execution_count": 71,
   "id": "2182b080-99b0-4bab-9d7e-f09c32b13df2",
   "metadata": {},
   "outputs": [
    {
     "data": {
      "image/png": "[encoded data removed]",
      "text/plain": [
       "<Figure size 800x600 with 1 Axes>"
      ]
     },
     "metadata": {},
     "output_type": "display_data"
    },
    {
     "data": {
      "image/png": "[encoded data removed]",
      "text/plain": [
       "<Figure size 800x600 with 1 Axes>"
      ]
     },
     "metadata": {},
     "output_type": "display_data"
    },
    {
     "data": {
      "image/png": "[encoded data removed]",
      "text/plain": [
       "<Figure size 800x600 with 1 Axes>"
      ]
     },
     "metadata": {},
     "output_type": "display_data"
    },
    {
     "data": {
      "image/png": "[encoded data removed]",
      "text/plain": [
       "<Figure size 800x600 with 1 Axes>"
      ]
     },
     "metadata": {},
     "output_type": "display_data"
    },
    {
     "data": {
      "image/png": "[encoded data removed]",
      "text/plain": [
       "<Figure size 800x600 with 1 Axes>"
      ]
     },
     "metadata": {},
     "output_type": "display_data"
    },
    {
     "data": {
      "image/png": "[encoded data removed]",
      "text/plain": [
       "<Figure size 800x600 with 1 Axes>"
      ]
     },
     "metadata": {},
     "output_type": "display_data"
    }
   ],
   "source": [
    "# Biểu đồ phân tán cho từng thông số\r\n",
    "attributes = [\"missing_ratio\", \"min\", \"lower_quartile\", \"median\", \"upper_quartile\", \"max\"]\r\n",
    "for index, atr in enumerate(attributes):\r\n",
    "    row = num_col_info_df.loc[atr]\r\n",
    "\r\n",
    "    # Vẽ biểu đồ cột\r\n",
    "    plt.figure(figsize=(8, 6))\r\n",
    "    row.plot(kind='bar', color='skyblue')\r\n",
    "    plt.title(f'{atr}')\r\n",
    "    plt.xlabel('Column')\r\n",
    "    plt.ylabel('Value')\r\n",
    "    plt.xticks(rotation=45)\r\n",
    "    plt.grid(axis='y')\r\n",
    "    \r\n",
    "plt.tight_layout()\r\n",
    "# Hiển thị biểu đồ\r\n",
    "plt.show()"
   ]
  },
  {
   "cell_type": "markdown",
   "id": "9b5bd036-d844-45cb-b605-b240a1adece5",
   "metadata": {},
   "source": [
    "### Số liệu thống kê và quan hệ giữa các thuộc tính trong dữ liệu"
   ]
  },
  {
   "cell_type": "markdown",
   "id": "6bef73ff-2e70-475a-964b-5ebbc494c4cb",
   "metadata": {},
   "source": [
    "Trước tiên chúng em có những cái nhìn đầu tiên về số liệu thông qua **Bảng thống kê mô tả** sau."
   ]
  },
  {
   "cell_type": "code",
   "execution_count": 72,
   "id": "db04fb6c-0d62-464e-ad6e-8bbd632cdd66",
   "metadata": {},
   "outputs": [
    {
     "data": {
      "text/html": [
       "<div>\n",
       "<style scoped>\n",
       "    .dataframe tbody tr th:only-of-type {\n",
       "        vertical-align: middle;\n",
       "    }\n",
       "\n",
       "    .dataframe tbody tr th {\n",
       "        vertical-align: top;\n",
       "    }\n",
       "\n",
       "    .dataframe thead th {\n",
       "        text-align: right;\n",
       "    }\n",
       "</style>\n",
       "<table border=\"1\" class=\"dataframe\">\n",
       "  <thead>\n",
       "    <tr style=\"text-align: right;\">\n",
       "      <th></th>\n",
       "      <th>co</th>\n",
       "      <th>no</th>\n",
       "      <th>no2</th>\n",
       "      <th>o3</th>\n",
       "      <th>so2</th>\n",
       "      <th>pm2_5</th>\n",
       "      <th>pm10</th>\n",
       "      <th>nh3</th>\n",
       "    </tr>\n",
       "  </thead>\n",
       "  <tbody>\n",
       "    <tr>\n",
       "      <th>count</th>\n",
       "      <td>33813.000000</td>\n",
       "      <td>33813.000000</td>\n",
       "      <td>33813.000000</td>\n",
       "      <td>33813.000000</td>\n",
       "      <td>33813.000000</td>\n",
       "      <td>33813.000000</td>\n",
       "      <td>33813.000000</td>\n",
       "      <td>33813.000000</td>\n",
       "    </tr>\n",
       "    <tr>\n",
       "      <th>mean</th>\n",
       "      <td>1551.622618</td>\n",
       "      <td>25.209962</td>\n",
       "      <td>38.514035</td>\n",
       "      <td>24.824856</td>\n",
       "      <td>46.140866</td>\n",
       "      <td>67.881627</td>\n",
       "      <td>82.239045</td>\n",
       "      <td>11.156338</td>\n",
       "    </tr>\n",
       "    <tr>\n",
       "      <th>std</th>\n",
       "      <td>1505.860446</td>\n",
       "      <td>39.017120</td>\n",
       "      <td>21.583975</td>\n",
       "      <td>42.397874</td>\n",
       "      <td>28.691124</td>\n",
       "      <td>81.232424</td>\n",
       "      <td>91.478519</td>\n",
       "      <td>9.780257</td>\n",
       "    </tr>\n",
       "    <tr>\n",
       "      <th>min</th>\n",
       "      <td>317.100000</td>\n",
       "      <td>0.000000</td>\n",
       "      <td>6.340000</td>\n",
       "      <td>0.000000</td>\n",
       "      <td>5.840000</td>\n",
       "      <td>3.450000</td>\n",
       "      <td>4.410000</td>\n",
       "      <td>1.520000</td>\n",
       "    </tr>\n",
       "    <tr>\n",
       "      <th>25%</th>\n",
       "      <td>687.600000</td>\n",
       "      <td>1.650000</td>\n",
       "      <td>24.330000</td>\n",
       "      <td>0.020000</td>\n",
       "      <td>26.700000</td>\n",
       "      <td>21.430000</td>\n",
       "      <td>28.800000</td>\n",
       "      <td>6.020000</td>\n",
       "    </tr>\n",
       "    <tr>\n",
       "      <th>50%</th>\n",
       "      <td>1028.060000</td>\n",
       "      <td>9.280000</td>\n",
       "      <td>33.240000</td>\n",
       "      <td>4.340000</td>\n",
       "      <td>38.150000</td>\n",
       "      <td>40.090000</td>\n",
       "      <td>51.150000</td>\n",
       "      <td>8.610000</td>\n",
       "    </tr>\n",
       "    <tr>\n",
       "      <th>75%</th>\n",
       "      <td>1762.390000</td>\n",
       "      <td>32.630000</td>\n",
       "      <td>45.930000</td>\n",
       "      <td>31.830000</td>\n",
       "      <td>56.740000</td>\n",
       "      <td>79.430000</td>\n",
       "      <td>97.370000</td>\n",
       "      <td>12.920000</td>\n",
       "    </tr>\n",
       "    <tr>\n",
       "      <th>max</th>\n",
       "      <td>18585.210000</td>\n",
       "      <td>393.390000</td>\n",
       "      <td>213.860000</td>\n",
       "      <td>446.320000</td>\n",
       "      <td>270.840000</td>\n",
       "      <td>936.130000</td>\n",
       "      <td>1034.270000</td>\n",
       "      <td>186.440000</td>\n",
       "    </tr>\n",
       "  </tbody>\n",
       "</table>\n",
       "</div>"
      ],
      "text/plain": [
       "                 co            no           no2            o3           so2  \\\n",
       "count  33813.000000  33813.000000  33813.000000  33813.000000  33813.000000   \n",
       "mean    1551.622618     25.209962     38.514035     24.824856     46.140866   \n",
       "std     1505.860446     39.017120     21.583975     42.397874     28.691124   \n",
       "min      317.100000      0.000000      6.340000      0.000000      5.840000   \n",
       "25%      687.600000      1.650000     24.330000      0.020000     26.700000   \n",
       "50%     1028.060000      9.280000     33.240000      4.340000     38.150000   \n",
       "75%     1762.390000     32.630000     45.930000     31.830000     56.740000   \n",
       "max    18585.210000    393.390000    213.860000    446.320000    270.840000   \n",
       "\n",
       "              pm2_5          pm10           nh3  \n",
       "count  33813.000000  33813.000000  33813.000000  \n",
       "mean      67.881627     82.239045     11.156338  \n",
       "std       81.232424     91.478519      9.780257  \n",
       "min        3.450000      4.410000      1.520000  \n",
       "25%       21.430000     28.800000      6.020000  \n",
       "50%       40.090000     51.150000      8.610000  \n",
       "75%       79.430000     97.370000     12.920000  \n",
       "max      936.130000   1034.270000    186.440000  "
      ]
     },
     "execution_count": 72,
     "metadata": {},
     "output_type": "execute_result"
    }
   ],
   "source": [
    "# Lấy các cột có kiểu dữ liệu số\n",
    "df_copy = cleaned_df.drop(['dt', 'aqi'], axis='columns')\n",
    "\n",
    "# Bảng thống kê mô tả\n",
    "summary = df_copy.describe(include='all')\n",
    "summary"
   ]
  },
  {
   "cell_type": "markdown",
   "id": "c1adf6aa-dc6b-4895-9080-7db05aa6208b",
   "metadata": {},
   "source": [
    "Bảng trên cho ta những thống kê về số lượng (`count`), trung bình (`mean`), độ lệch chuẩn (`std`) và phân bố của dữ liệu theo tứ phân vị (`min, 25%, 50%, 75%, max`). "
   ]
  },
  {
   "cell_type": "markdown",
   "id": "89dad0dc-ae10-4e3b-becf-87499a25bf3b",
   "metadata": {},
   "source": [
    "Để có thêm những cái nhìn về dữ liệu, chúng em xem xét thêm **mối quan hệ giữa các cột** dựa vào biểu đồ heatmap."
   ]
  },
  {
   "cell_type": "code",
   "execution_count": 73,
   "id": "ba902db2-fd3b-4d8c-b500-78c23a1b05ed",
   "metadata": {},
   "outputs": [
    {
     "data": {
      "image/png": "[encoded data removed]",
      "text/plain": [
       "<Figure size 2000x1600 with 2 Axes>"
      ]
     },
     "metadata": {},
     "output_type": "display_data"
    }
   ],
   "source": [
    "# Visualize correlation\n",
    "plt.figure(figsize = (20,16))\n",
    "sns.heatmap(df_copy.corr(), cmap = \"YlGnBu\")\n",
    "plt.show()"
   ]
  },
  {
   "cell_type": "markdown",
   "id": "1b9d9981-4846-47d3-8ba4-7515e2633401",
   "metadata": {},
   "source": [
    "Dựa vào heat map về mối quan hệ giữa các cột như trên, ta có thể thấy hầu hết các cột đều đều có mối quan hệ dương, trừ `o3` với các cột còn lại. Điều này cho thấy các cột có thể có quan hệ đồng biến với nhau."
   ]
  },
  {
   "cell_type": "code",
   "execution_count": null,
   "id": "3cd11516-77bc-43dd-8c2c-0c605e8e7bdb",
   "metadata": {},
   "outputs": [],
   "source": []
  }
 ],
 "metadata": {
  "kernelspec": {
   "display_name": "Python 3 (ipykernel)",
   "language": "python",
   "name": "python3"
  },
  "language_info": {
   "codemirror_mode": {
    "name": "ipython",
    "version": 3
   },
   "file_extension": ".py",
   "mimetype": "text/x-python",
   "name": "python",
   "nbconvert_exporter": "python",
   "pygments_lexer": "ipython3",
   "version": "3.10.8"
  }
 },
 "nbformat": 4,
 "nbformat_minor": 5
}
