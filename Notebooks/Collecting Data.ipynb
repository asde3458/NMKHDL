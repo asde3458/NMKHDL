{
 "cells": [
  {
   "cell_type": "markdown",
   "id": "db76af21-8779-4c4e-a0cc-df8bce766139",
   "metadata": {},
   "source": [
    "<div style=\"text-align: left; background-color:#5A96E3; font-family:Times New Roman; color:#191414; padding: 12px; line-height:1.25;border-radius:1px; margin-bottom: 0em; text-align: center; font-size: 40px;border-style: solid;border-color: #5A96E3;\"><strong>ĐỒ ÁN MÔN HỌC</strong></div>\n",
    "<div style=\"text-align: left; background-color:#FFFFFF; font-family: Times New Roman; color:black; padding: 12px; line-height:1.25;border-radius:1px; margin-bottom: 0em; text-align: center; font-size: 18px\"><strong>| CSC14119 – NHẬP MÔN KHOA HỌC DỮ LIỆU - NHÓM 16 |<strong></div>"
   ]
  },
  {
   "cell_type": "markdown",
   "id": "28f1da35-8dec-4dfa-a1ac-7c875df88108",
   "metadata": {},
   "source": [
    "## Team Member Table\n",
    "|<center><div style=\"width:150px\">ID</div><center>|<center><div style=\"width:290px\">NAME</div><center>|\n",
    "|---------- |:-------------:|\n",
    "| <center>21120112<center>  |<center>Bùi Kim Phúc<center> |"
   ]
  },
  {
   "cell_type": "markdown",
   "id": "c18a70c6-2fc1-43f8-be2c-dfade4d207a3",
   "metadata": {},
   "source": [
    "## 1. INTRODUCTION"
   ]
  },
  {
   "cell_type": "markdown",
   "id": "b68b267f-25b5-48f2-b19b-05fe15a951c3",
   "metadata": {},
   "source": [
    "In the modern context, air pollution has become one of the most critical environmental challenges, directly affecting human health and ecosystems. Airborne pollutants such as fine particulate matter (PM2.5, PM10), gases like O₃, NO₂, SO₂, and CO, not only contribute to respiratory diseases but also significantly increase the global rate of premature mortality. According to international reports, air pollution is one of the leading causes of severe health problems, particularly in densely populated urban areas."
   ]
  },
  {
   "cell_type": "markdown",
   "id": "a4bade19",
   "metadata": {},
   "source": [
    "This project utilizes key data indicators, including pollutant concentrations and the Air Quality Index (AQI), collected from Ho Chi Minh City—a region facing immense pressure from air pollution in Vietnam. The primary focus of the project is to analyze air quality in major cities, aiming to evaluate pollution levels, identify major contributing factors, and provide scientifically grounded insights into the trends in air quality variations."
   ]
  },
  {
   "cell_type": "markdown",
   "id": "845168c9",
   "metadata": {},
   "source": [
    "Through the application of data analysis and machine learning models, this study not only seeks to offer a comprehensive understanding of the current state of air pollution but also aims to support the development of actionable recommendations to mitigate the adverse impacts of air pollution on public health and the environment."
   ]
  },
  {
   "cell_type": "markdown",
   "id": "3ef0dd3e",
   "metadata": {},
   "source": [
    "Through the application of analytical models and machine learning, this project aims not only to provide a comprehensive overview of the current state of air pollution but also to support the development of actionable recommendations to mitigate the impacts of pollution on public health and the environment."
   ]
  },
  {
   "cell_type": "markdown",
   "id": "7bd5763a-964f-4006-b188-aa13364b9a78",
   "metadata": {},
   "source": [
    "## 1.1 Import Required Libraries"
   ]
  },
  {
   "cell_type": "code",
   "execution_count": 1,
   "id": "82cf2c1e-0849-4aed-80cf-8d9e6dec3093",
   "metadata": {},
   "outputs": [],
   "source": [
    "import requests\n",
    "import json\n",
    "import pandas as pd\n",
    "import time\n",
    "import datetime\n",
    "import calendar\n",
    "import seaborn as sns\n",
    "import matplotlib.pyplot as plt"
   ]
  },
  {
   "cell_type": "markdown",
   "id": "515c3444-b110-40bf-82ae-93bd09ded87f",
   "metadata": {},
   "source": [
    "## 1.2 Data Collection"
   ]
  },
  {
   "cell_type": "markdown",
   "id": "5b67bb82",
   "metadata": {},
   "source": [
    "To conduct a scientific and reliable analysis of air quality, the team chose to collect data from OpenWeatherMap (https://openweathermap.org) – one of the most reputable platforms for meteorological and environmental data worldwide. OpenWeatherMap offers detailed information on air quality, including pollutant concentrations such as PM2.5, PM10, O₃, NO₂, SO₂, CO, and the Air Quality Index (AQI) for numerous cities and regions globally."
   ]
  },
  {
   "cell_type": "markdown",
   "id": "9916c12e",
   "metadata": {},
   "source": [
    "The data collected by the team focuses on Ho Chi Minh City, an area under significant pressure from air pollution due to urbanization and the increasing number of vehicles. The data sourced from OpenWeatherMap not only ensures timeliness but also provides high accuracy, serving as a robust foundation for the analysis and development of air quality prediction models in this project. Using this data source enables the team to gain a detailed understanding of pollution trends and contributing factors, thereby facilitating the formulation of appropriate insights and recommendations."
   ]
  },
  {
   "cell_type": "markdown",
   "id": "5fa6691f",
   "metadata": {},
   "source": [
    "API call: http://api.openweathermap.org/data/2.5/air_pollution/history?lat={lat}&lon={lon}&start={start}&end={end}&appid={API key}"
   ]
  },
  {
   "cell_type": "markdown",
   "id": "2ce055e1",
   "metadata": {},
   "source": [
    "Example of an API request: http://api.openweathermap.org/data/2.5/air_pollution/history?lat=508&lon=50&start=1606223802&end=1606482999&appid={API key} "
   ]
  },
  {
   "cell_type": "markdown",
   "id": "38680c7b",
   "metadata": {},
   "source": [
    "| **Parameter** | **Requirement** | **Description**                                                                                                                                                              |\n",
    "|---------------|-----------------|--------------------------------------------------------------------------------------------------------------------------------------------------------------------------|\n",
    "| `lat`         | Required        | Latitude. If you need the geocoder to automatically convert city names and zip codes to geo-coordinates and vice versa, please use the Geocoding API.                    |\n",
    "| `lon`         | Required        | Longitude. If you need the geocoder to automatically convert city names and zip codes to geo-coordinates and vice versa, please use the Geocoding API.                   |\n",
    "| `start`       | Required        | Start date (unix time, UTC time zone), e.g., `start=1606488670`.                                                                                                         |\n",
    "| `end`         | Required        | End date (unix time, UTC time zone), e.g., `end=1606747870`.                                                                                                             |\n",
    "| `appid`       | Required        | Your unique API key (you can always find it on your account page under the \"API key\" tab).                                                                               |\n"
   ]
  },
  {
   "cell_type": "code",
   "execution_count": 2,
   "id": "e2a028f9-760d-497f-a6c1-5644baccf2f5",
   "metadata": {},
   "outputs": [],
   "source": [
    "def convert_to_utc_epoch(datetime_obj):  \n",
    "     \n",
    "    format_str = \"%Y-%m-%d %H:%M:%S\"\n",
    "    datetime_str = datetime_obj.strftime(format_str)  # Chuyển datetime thành chuỗi\n",
    "    time_tuple = time.strptime(datetime_str, format_str)  # Chuyển chuỗi thành time tuple\n",
    "    utc_epoch = calendar.timegm(time_tuple)  # Chuyển time tuple thành thời gian epoch\n",
    "    return str(utc_epoch)\n"
   ]
  },
  {
   "cell_type": "markdown",
   "id": "8faca9ee",
   "metadata": {},
   "source": [
    "## 1.3 Create function to fetch data from the web page"
   ]
  },
  {
   "cell_type": "code",
   "execution_count": 3,
   "id": "c6aca480-1aff-4385-8d02-5ba647b81ec5",
   "metadata": {},
   "outputs": [],
   "source": [
    "# Base URL of API\n",
    "base_url = 'http://api.openweathermap.org/data/2.5/air_pollution/history?'\n",
    "\n",
    "# fetch data function \n",
    "def fetch_air_quality_data(latitude: str, longitude: str, start_time: str, end_time: str, api_key: str):\n",
    "    params = {\n",
    "        'lat': latitude, #Latitude of the area where data needs to be collected.\n",
    "        'lon': longitude, #Longitude of the area where data needs to be collected.\n",
    "        'start': start_time, # Start time (Unix timestamp, UTC timezone).\n",
    "        'end': end_time, # End time (Unix timestamp, UTC timezone).\n",
    "        'appid': api_key #OpenWeatherMap API key.\n",
    "    }\n",
    "    response = requests.get(base_url, params=params)\n",
    "    air_quality_df = pd.DataFrame()\n",
    "    if response.status_code == 200:\n",
    "        data = json.loads(response.text)\n",
    "        extracted_data = [{'dt': item['dt'], 'aqi': item['main']['aqi'], **item['components']} for item in data['list']]\n",
    "        air_quality_df = pd.DataFrame(extracted_data)\n",
    "    return air_quality_df\n"
   ]
  },
  {
   "cell_type": "markdown",
   "id": "05b34902-1bab-43e4-8393-774736fe33af",
   "metadata": {},
   "source": [
    "Our group decide to fetch data from the year 2021 till the nearest month"
   ]
  },
  {
   "cell_type": "code",
   "execution_count": 4,
   "id": "a44ca5d5-cbba-47ed-8cc6-1cb62471fc8f",
   "metadata": {},
   "outputs": [],
   "source": [
    "\n",
    "start_date_epoch = convert_to_utc_epoch(datetime.datetime(2021, 1, 1))\n",
    "end_date_epoch = convert_to_utc_epoch(datetime.datetime(2024, 11, 30))\n",
    "\n",
    "# HCM city location\n",
    "latitude = '10.8231'\n",
    "longitude = '106.6297'\n",
    "\n",
    "# API key provided by the website. \n",
    "api_key = \"59da78cf88e29ed9966a7904d10dbf34\"\n",
    "\n",
    "# fetch data\n",
    "air_quality_df = fetch_air_quality_data(latitude, longitude, start_date_epoch, end_date_epoch, api_key)\n",
    "\n"
   ]
  },
  {
   "cell_type": "code",
   "execution_count": 5,
   "id": "157ed6b7",
   "metadata": {},
   "outputs": [
    {
     "data": {
      "text/html": [
       "<div>\n",
       "<style scoped>\n",
       "    .dataframe tbody tr th:only-of-type {\n",
       "        vertical-align: middle;\n",
       "    }\n",
       "\n",
       "    .dataframe tbody tr th {\n",
       "        vertical-align: top;\n",
       "    }\n",
       "\n",
       "    .dataframe thead th {\n",
       "        text-align: right;\n",
       "    }\n",
       "</style>\n",
       "<table border=\"1\" class=\"dataframe\">\n",
       "  <thead>\n",
       "    <tr style=\"text-align: right;\">\n",
       "      <th></th>\n",
       "      <th>dt</th>\n",
       "      <th>aqi</th>\n",
       "      <th>co</th>\n",
       "      <th>no</th>\n",
       "      <th>no2</th>\n",
       "      <th>o3</th>\n",
       "      <th>so2</th>\n",
       "      <th>pm2_5</th>\n",
       "      <th>pm10</th>\n",
       "      <th>nh3</th>\n",
       "    </tr>\n",
       "  </thead>\n",
       "  <tbody>\n",
       "    <tr>\n",
       "      <th>0</th>\n",
       "      <td>1609459200</td>\n",
       "      <td>3</td>\n",
       "      <td>700.95</td>\n",
       "      <td>0.44</td>\n",
       "      <td>35.99</td>\n",
       "      <td>17.35</td>\n",
       "      <td>32.90</td>\n",
       "      <td>20.33</td>\n",
       "      <td>26.64</td>\n",
       "      <td>8.99</td>\n",
       "    </tr>\n",
       "    <tr>\n",
       "      <th>1</th>\n",
       "      <td>1609462800</td>\n",
       "      <td>3</td>\n",
       "      <td>847.82</td>\n",
       "      <td>2.46</td>\n",
       "      <td>38.04</td>\n",
       "      <td>18.06</td>\n",
       "      <td>36.24</td>\n",
       "      <td>23.32</td>\n",
       "      <td>30.54</td>\n",
       "      <td>9.37</td>\n",
       "    </tr>\n",
       "    <tr>\n",
       "      <th>2</th>\n",
       "      <td>1609466400</td>\n",
       "      <td>3</td>\n",
       "      <td>894.55</td>\n",
       "      <td>5.25</td>\n",
       "      <td>38.39</td>\n",
       "      <td>23.25</td>\n",
       "      <td>41.01</td>\n",
       "      <td>24.16</td>\n",
       "      <td>31.93</td>\n",
       "      <td>9.25</td>\n",
       "    </tr>\n",
       "    <tr>\n",
       "      <th>3</th>\n",
       "      <td>1609470000</td>\n",
       "      <td>3</td>\n",
       "      <td>827.79</td>\n",
       "      <td>6.20</td>\n",
       "      <td>36.33</td>\n",
       "      <td>33.98</td>\n",
       "      <td>43.39</td>\n",
       "      <td>23.20</td>\n",
       "      <td>30.91</td>\n",
       "      <td>8.61</td>\n",
       "    </tr>\n",
       "    <tr>\n",
       "      <th>4</th>\n",
       "      <td>1609473600</td>\n",
       "      <td>2</td>\n",
       "      <td>660.90</td>\n",
       "      <td>3.69</td>\n",
       "      <td>29.13</td>\n",
       "      <td>54.36</td>\n",
       "      <td>35.76</td>\n",
       "      <td>19.50</td>\n",
       "      <td>25.60</td>\n",
       "      <td>6.21</td>\n",
       "    </tr>\n",
       "    <tr>\n",
       "      <th>...</th>\n",
       "      <td>...</td>\n",
       "      <td>...</td>\n",
       "      <td>...</td>\n",
       "      <td>...</td>\n",
       "      <td>...</td>\n",
       "      <td>...</td>\n",
       "      <td>...</td>\n",
       "      <td>...</td>\n",
       "      <td>...</td>\n",
       "      <td>...</td>\n",
       "    </tr>\n",
       "    <tr>\n",
       "      <th>33812</th>\n",
       "      <td>1732910400</td>\n",
       "      <td>2</td>\n",
       "      <td>600.81</td>\n",
       "      <td>1.30</td>\n",
       "      <td>37.70</td>\n",
       "      <td>5.99</td>\n",
       "      <td>23.13</td>\n",
       "      <td>21.54</td>\n",
       "      <td>27.61</td>\n",
       "      <td>9.25</td>\n",
       "    </tr>\n",
       "    <tr>\n",
       "      <th>33813</th>\n",
       "      <td>1732914000</td>\n",
       "      <td>2</td>\n",
       "      <td>554.08</td>\n",
       "      <td>0.75</td>\n",
       "      <td>35.99</td>\n",
       "      <td>8.85</td>\n",
       "      <td>23.13</td>\n",
       "      <td>20.50</td>\n",
       "      <td>26.39</td>\n",
       "      <td>8.36</td>\n",
       "    </tr>\n",
       "    <tr>\n",
       "      <th>33814</th>\n",
       "      <td>1732917600</td>\n",
       "      <td>2</td>\n",
       "      <td>567.44</td>\n",
       "      <td>0.64</td>\n",
       "      <td>36.67</td>\n",
       "      <td>10.19</td>\n",
       "      <td>24.80</td>\n",
       "      <td>22.20</td>\n",
       "      <td>28.90</td>\n",
       "      <td>8.04</td>\n",
       "    </tr>\n",
       "    <tr>\n",
       "      <th>33815</th>\n",
       "      <td>1732921200</td>\n",
       "      <td>2</td>\n",
       "      <td>600.81</td>\n",
       "      <td>0.76</td>\n",
       "      <td>37.36</td>\n",
       "      <td>9.66</td>\n",
       "      <td>26.23</td>\n",
       "      <td>24.03</td>\n",
       "      <td>32.19</td>\n",
       "      <td>8.61</td>\n",
       "    </tr>\n",
       "    <tr>\n",
       "      <th>33816</th>\n",
       "      <td>1732924800</td>\n",
       "      <td>3</td>\n",
       "      <td>747.68</td>\n",
       "      <td>2.54</td>\n",
       "      <td>38.04</td>\n",
       "      <td>6.79</td>\n",
       "      <td>27.42</td>\n",
       "      <td>29.40</td>\n",
       "      <td>40.27</td>\n",
       "      <td>10.26</td>\n",
       "    </tr>\n",
       "  </tbody>\n",
       "</table>\n",
       "<p>33817 rows × 10 columns</p>\n",
       "</div>"
      ],
      "text/plain": [
       "               dt  aqi      co    no    no2     o3    so2  pm2_5   pm10    nh3\n",
       "0      1609459200    3  700.95  0.44  35.99  17.35  32.90  20.33  26.64   8.99\n",
       "1      1609462800    3  847.82  2.46  38.04  18.06  36.24  23.32  30.54   9.37\n",
       "2      1609466400    3  894.55  5.25  38.39  23.25  41.01  24.16  31.93   9.25\n",
       "3      1609470000    3  827.79  6.20  36.33  33.98  43.39  23.20  30.91   8.61\n",
       "4      1609473600    2  660.90  3.69  29.13  54.36  35.76  19.50  25.60   6.21\n",
       "...           ...  ...     ...   ...    ...    ...    ...    ...    ...    ...\n",
       "33812  1732910400    2  600.81  1.30  37.70   5.99  23.13  21.54  27.61   9.25\n",
       "33813  1732914000    2  554.08  0.75  35.99   8.85  23.13  20.50  26.39   8.36\n",
       "33814  1732917600    2  567.44  0.64  36.67  10.19  24.80  22.20  28.90   8.04\n",
       "33815  1732921200    2  600.81  0.76  37.36   9.66  26.23  24.03  32.19   8.61\n",
       "33816  1732924800    3  747.68  2.54  38.04   6.79  27.42  29.40  40.27  10.26\n",
       "\n",
       "[33817 rows x 10 columns]"
      ]
     },
     "execution_count": 5,
     "metadata": {},
     "output_type": "execute_result"
    }
   ],
   "source": [
    "air_quality_df"
   ]
  },
  {
   "cell_type": "code",
   "execution_count": 6,
   "id": "02689403-63eb-4a4f-b0e0-a2ab17d5dfb3",
   "metadata": {},
   "outputs": [],
   "source": [
    "air_quality_df.to_csv('../Data/air_pollution.csv', sep=',', encoding='utf-8', index=False)"
   ]
  },
  {
   "cell_type": "code",
   "execution_count": null,
   "id": "c842c24e",
   "metadata": {},
   "outputs": [],
   "source": []
  }
 ],
 "metadata": {
  "kernelspec": {
   "display_name": "base",
   "language": "python",
   "name": "python3"
  },
  "language_info": {
   "codemirror_mode": {
    "name": "ipython",
    "version": 3
   },
   "file_extension": ".py",
   "mimetype": "text/x-python",
   "name": "python",
   "nbconvert_exporter": "python",
   "pygments_lexer": "ipython3",
   "version": "3.11.7"
  }
 },
 "nbformat": 4,
 "nbformat_minor": 5
}
